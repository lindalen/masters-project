{
 "cells": [
  {
   "cell_type": "code",
   "execution_count": 7,
   "id": "3443b12d",
   "metadata": {},
   "outputs": [
    {
     "name": "stderr",
     "output_type": "stream",
     "text": [
      "huggingface/tokenizers: The current process just got forked, after parallelism has already been used. Disabling parallelism to avoid deadlocks...\n",
      "To disable this warning, you can either:\n",
      "\t- Avoid using `tokenizers` before the fork if possible\n",
      "\t- Explicitly set the environment variable TOKENIZERS_PARALLELISM=(true | false)\n"
     ]
    },
    {
     "name": "stdout",
     "output_type": "stream",
     "text": [
      "Requirement already satisfied: accelerate in /cluster/home/danlin/vit/lib/python3.10/site-packages (0.24.1)\n",
      "Requirement already satisfied: numpy>=1.17 in /cluster/home/danlin/vit/lib/python3.10/site-packages (from accelerate) (1.26.0)\n",
      "Requirement already satisfied: packaging>=20.0 in /cluster/home/danlin/vit/lib/python3.10/site-packages (from accelerate) (23.1)\n",
      "Requirement already satisfied: psutil in /cluster/home/danlin/vit/lib/python3.10/site-packages (from accelerate) (5.9.0)\n",
      "Requirement already satisfied: pyyaml in /cluster/home/danlin/vit/lib/python3.10/site-packages (from accelerate) (6.0.1)\n",
      "Requirement already satisfied: torch>=1.10.0 in /cluster/home/danlin/vit/lib/python3.10/site-packages (from accelerate) (2.0.1)\n",
      "Requirement already satisfied: huggingface-hub in /cluster/home/danlin/vit/lib/python3.10/site-packages (from accelerate) (0.17.3)\n",
      "Requirement already satisfied: filelock in /cluster/home/danlin/vit/lib/python3.10/site-packages (from torch>=1.10.0->accelerate) (3.13.1)\n",
      "Requirement already satisfied: typing-extensions in /cluster/home/danlin/vit/lib/python3.10/site-packages (from torch>=1.10.0->accelerate) (4.7.1)\n",
      "Requirement already satisfied: sympy in /cluster/home/danlin/vit/lib/python3.10/site-packages (from torch>=1.10.0->accelerate) (1.11.1)\n",
      "Requirement already satisfied: networkx in /cluster/home/danlin/vit/lib/python3.10/site-packages (from torch>=1.10.0->accelerate) (3.1)\n",
      "Requirement already satisfied: jinja2 in /cluster/home/danlin/vit/lib/python3.10/site-packages (from torch>=1.10.0->accelerate) (3.1.2)\n",
      "Requirement already satisfied: fsspec in /cluster/home/danlin/vit/lib/python3.10/site-packages (from huggingface-hub->accelerate) (2023.10.0)\n",
      "Requirement already satisfied: requests in /cluster/home/danlin/vit/lib/python3.10/site-packages (from huggingface-hub->accelerate) (2.31.0)\n",
      "Requirement already satisfied: tqdm>=4.42.1 in /cluster/home/danlin/vit/lib/python3.10/site-packages (from huggingface-hub->accelerate) (4.66.1)\n",
      "Requirement already satisfied: MarkupSafe>=2.0 in /cluster/home/danlin/vit/lib/python3.10/site-packages (from jinja2->torch>=1.10.0->accelerate) (2.1.1)\n",
      "Requirement already satisfied: charset-normalizer<4,>=2 in /cluster/home/danlin/vit/lib/python3.10/site-packages (from requests->huggingface-hub->accelerate) (2.0.4)\n",
      "Requirement already satisfied: idna<4,>=2.5 in /cluster/home/danlin/vit/lib/python3.10/site-packages (from requests->huggingface-hub->accelerate) (3.4)\n",
      "Requirement already satisfied: urllib3<3,>=1.21.1 in /cluster/home/danlin/vit/lib/python3.10/site-packages (from requests->huggingface-hub->accelerate) (1.26.18)\n",
      "Requirement already satisfied: certifi>=2017.4.17 in /cluster/home/danlin/vit/lib/python3.10/site-packages (from requests->huggingface-hub->accelerate) (2023.11.17)\n",
      "Requirement already satisfied: mpmath>=0.19 in /cluster/home/danlin/vit/lib/python3.10/site-packages (from sympy->torch>=1.10.0->accelerate) (1.3.0)\n",
      "Note: you may need to restart the kernel to use updated packages.\n"
     ]
    },
    {
     "name": "stderr",
     "output_type": "stream",
     "text": [
      "huggingface/tokenizers: The current process just got forked, after parallelism has already been used. Disabling parallelism to avoid deadlocks...\n",
      "To disable this warning, you can either:\n",
      "\t- Avoid using `tokenizers` before the fork if possible\n",
      "\t- Explicitly set the environment variable TOKENIZERS_PARALLELISM=(true | false)\n"
     ]
    },
    {
     "name": "stdout",
     "output_type": "stream",
     "text": [
      "Collecting git+https://github.com/huggingface/transformers.git@72958fcd3c98a7afdc61f953aa58c544ebda2f79\n",
      "  Cloning https://github.com/huggingface/transformers.git (to revision 72958fcd3c98a7afdc61f953aa58c544ebda2f79) to /tmp/pip-req-build-ko9r38ag\n",
      "  Running command git clone --filter=blob:none --quiet https://github.com/huggingface/transformers.git /tmp/pip-req-build-ko9r38ag\n",
      "  Running command git rev-parse -q --verify 'sha^72958fcd3c98a7afdc61f953aa58c544ebda2f79'\n",
      "  Running command git fetch -q https://github.com/huggingface/transformers.git 72958fcd3c98a7afdc61f953aa58c544ebda2f79\n",
      "  Running command git checkout -q 72958fcd3c98a7afdc61f953aa58c544ebda2f79\n",
      "  Resolved https://github.com/huggingface/transformers.git to commit 72958fcd3c98a7afdc61f953aa58c544ebda2f79\n",
      "  Installing build dependencies ... \u001b[?25ldone\n",
      "\u001b[?25h  Getting requirements to build wheel ... \u001b[?25ldone\n",
      "\u001b[?25h  Preparing metadata (pyproject.toml) ... \u001b[?25ldone\n",
      "\u001b[?25hRequirement already satisfied: filelock in /cluster/home/danlin/vit/lib/python3.10/site-packages (from transformers==4.34.0.dev0) (3.13.1)\n",
      "Requirement already satisfied: huggingface-hub<1.0,>=0.16.4 in /cluster/home/danlin/vit/lib/python3.10/site-packages (from transformers==4.34.0.dev0) (0.17.3)\n",
      "Requirement already satisfied: numpy>=1.17 in /cluster/home/danlin/vit/lib/python3.10/site-packages (from transformers==4.34.0.dev0) (1.26.0)\n",
      "Requirement already satisfied: packaging>=20.0 in /cluster/home/danlin/vit/lib/python3.10/site-packages (from transformers==4.34.0.dev0) (23.1)\n",
      "Requirement already satisfied: pyyaml>=5.1 in /cluster/home/danlin/vit/lib/python3.10/site-packages (from transformers==4.34.0.dev0) (6.0.1)\n",
      "Requirement already satisfied: regex!=2019.12.17 in /cluster/home/danlin/vit/lib/python3.10/site-packages (from transformers==4.34.0.dev0) (2023.10.3)\n",
      "Requirement already satisfied: requests in /cluster/home/danlin/vit/lib/python3.10/site-packages (from transformers==4.34.0.dev0) (2.31.0)\n",
      "Requirement already satisfied: tokenizers<0.15,>=0.14 in /cluster/home/danlin/vit/lib/python3.10/site-packages (from transformers==4.34.0.dev0) (0.14.1)\n",
      "Requirement already satisfied: safetensors>=0.3.1 in /cluster/home/danlin/vit/lib/python3.10/site-packages (from transformers==4.34.0.dev0) (0.4.1)\n",
      "Requirement already satisfied: tqdm>=4.27 in /cluster/home/danlin/vit/lib/python3.10/site-packages (from transformers==4.34.0.dev0) (4.66.1)\n",
      "Requirement already satisfied: fsspec in /cluster/home/danlin/vit/lib/python3.10/site-packages (from huggingface-hub<1.0,>=0.16.4->transformers==4.34.0.dev0) (2023.10.0)\n",
      "Requirement already satisfied: typing-extensions>=3.7.4.3 in /cluster/home/danlin/vit/lib/python3.10/site-packages (from huggingface-hub<1.0,>=0.16.4->transformers==4.34.0.dev0) (4.7.1)\n",
      "Requirement already satisfied: charset-normalizer<4,>=2 in /cluster/home/danlin/vit/lib/python3.10/site-packages (from requests->transformers==4.34.0.dev0) (2.0.4)\n",
      "Requirement already satisfied: idna<4,>=2.5 in /cluster/home/danlin/vit/lib/python3.10/site-packages (from requests->transformers==4.34.0.dev0) (3.4)\n",
      "Requirement already satisfied: urllib3<3,>=1.21.1 in /cluster/home/danlin/vit/lib/python3.10/site-packages (from requests->transformers==4.34.0.dev0) (1.26.18)\n",
      "Requirement already satisfied: certifi>=2017.4.17 in /cluster/home/danlin/vit/lib/python3.10/site-packages (from requests->transformers==4.34.0.dev0) (2023.11.17)\n",
      "Note: you may need to restart the kernel to use updated packages.\n"
     ]
    },
    {
     "name": "stderr",
     "output_type": "stream",
     "text": [
      "huggingface/tokenizers: The current process just got forked, after parallelism has already been used. Disabling parallelism to avoid deadlocks...\n",
      "To disable this warning, you can either:\n",
      "\t- Avoid using `tokenizers` before the fork if possible\n",
      "\t- Explicitly set the environment variable TOKENIZERS_PARALLELISM=(true | false)\n"
     ]
    },
    {
     "name": "stdout",
     "output_type": "stream",
     "text": [
      "Requirement already satisfied: optimum in /cluster/home/danlin/vit/lib/python3.10/site-packages (1.14.1)\n",
      "Requirement already satisfied: coloredlogs in /cluster/home/danlin/vit/lib/python3.10/site-packages (from optimum) (15.0.1)\n",
      "Requirement already satisfied: sympy in /cluster/home/danlin/vit/lib/python3.10/site-packages (from optimum) (1.11.1)\n",
      "Requirement already satisfied: transformers>=4.26.0 in /cluster/home/danlin/vit/lib/python3.10/site-packages (from transformers[sentencepiece]>=4.26.0->optimum) (4.34.0.dev0)\n",
      "Requirement already satisfied: torch>=1.9 in /cluster/home/danlin/vit/lib/python3.10/site-packages (from optimum) (2.0.1)\n",
      "Requirement already satisfied: packaging in /cluster/home/danlin/vit/lib/python3.10/site-packages (from optimum) (23.1)\n",
      "Requirement already satisfied: numpy in /cluster/home/danlin/vit/lib/python3.10/site-packages (from optimum) (1.26.0)\n",
      "Requirement already satisfied: huggingface-hub>=0.8.0 in /cluster/home/danlin/vit/lib/python3.10/site-packages (from optimum) (0.17.3)\n",
      "Requirement already satisfied: datasets in /cluster/home/danlin/vit/lib/python3.10/site-packages (from optimum) (2.14.7)\n",
      "Requirement already satisfied: filelock in /cluster/home/danlin/vit/lib/python3.10/site-packages (from huggingface-hub>=0.8.0->optimum) (3.13.1)\n",
      "Requirement already satisfied: fsspec in /cluster/home/danlin/vit/lib/python3.10/site-packages (from huggingface-hub>=0.8.0->optimum) (2023.10.0)\n",
      "Requirement already satisfied: requests in /cluster/home/danlin/vit/lib/python3.10/site-packages (from huggingface-hub>=0.8.0->optimum) (2.31.0)\n",
      "Requirement already satisfied: tqdm>=4.42.1 in /cluster/home/danlin/vit/lib/python3.10/site-packages (from huggingface-hub>=0.8.0->optimum) (4.66.1)\n",
      "Requirement already satisfied: pyyaml>=5.1 in /cluster/home/danlin/vit/lib/python3.10/site-packages (from huggingface-hub>=0.8.0->optimum) (6.0.1)\n",
      "Requirement already satisfied: typing-extensions>=3.7.4.3 in /cluster/home/danlin/vit/lib/python3.10/site-packages (from huggingface-hub>=0.8.0->optimum) (4.7.1)\n",
      "Requirement already satisfied: networkx in /cluster/home/danlin/vit/lib/python3.10/site-packages (from torch>=1.9->optimum) (3.1)\n",
      "Requirement already satisfied: jinja2 in /cluster/home/danlin/vit/lib/python3.10/site-packages (from torch>=1.9->optimum) (3.1.2)\n",
      "Requirement already satisfied: regex!=2019.12.17 in /cluster/home/danlin/vit/lib/python3.10/site-packages (from transformers>=4.26.0->transformers[sentencepiece]>=4.26.0->optimum) (2023.10.3)\n",
      "Requirement already satisfied: tokenizers<0.15,>=0.14 in /cluster/home/danlin/vit/lib/python3.10/site-packages (from transformers>=4.26.0->transformers[sentencepiece]>=4.26.0->optimum) (0.14.1)\n",
      "Requirement already satisfied: safetensors>=0.3.1 in /cluster/home/danlin/vit/lib/python3.10/site-packages (from transformers>=4.26.0->transformers[sentencepiece]>=4.26.0->optimum) (0.4.1)\n",
      "Requirement already satisfied: sentencepiece!=0.1.92,>=0.1.91 in /cluster/home/danlin/vit/lib/python3.10/site-packages (from transformers[sentencepiece]>=4.26.0->optimum) (0.1.99)\n",
      "Requirement already satisfied: protobuf in /cluster/home/danlin/vit/lib/python3.10/site-packages (from transformers[sentencepiece]>=4.26.0->optimum) (4.25.1)\n",
      "Requirement already satisfied: humanfriendly>=9.1 in /cluster/home/danlin/vit/lib/python3.10/site-packages (from coloredlogs->optimum) (10.0)\n",
      "Requirement already satisfied: pyarrow>=8.0.0 in /cluster/home/danlin/vit/lib/python3.10/site-packages (from datasets->optimum) (14.0.1)\n",
      "Requirement already satisfied: pyarrow-hotfix in /cluster/home/danlin/vit/lib/python3.10/site-packages (from datasets->optimum) (0.6)\n",
      "Requirement already satisfied: dill<0.3.8,>=0.3.0 in /cluster/home/danlin/vit/lib/python3.10/site-packages (from datasets->optimum) (0.3.7)\n",
      "Requirement already satisfied: pandas in /cluster/home/danlin/vit/lib/python3.10/site-packages (from datasets->optimum) (2.1.3)\n",
      "Requirement already satisfied: xxhash in /cluster/home/danlin/vit/lib/python3.10/site-packages (from datasets->optimum) (3.4.1)\n",
      "Requirement already satisfied: multiprocess in /cluster/home/danlin/vit/lib/python3.10/site-packages (from datasets->optimum) (0.70.15)\n",
      "Requirement already satisfied: aiohttp in /cluster/home/danlin/vit/lib/python3.10/site-packages (from datasets->optimum) (3.9.1)\n",
      "Requirement already satisfied: mpmath>=0.19 in /cluster/home/danlin/vit/lib/python3.10/site-packages (from sympy->optimum) (1.3.0)\n",
      "Requirement already satisfied: attrs>=17.3.0 in /cluster/home/danlin/vit/lib/python3.10/site-packages (from aiohttp->datasets->optimum) (23.1.0)\n",
      "Requirement already satisfied: multidict<7.0,>=4.5 in /cluster/home/danlin/vit/lib/python3.10/site-packages (from aiohttp->datasets->optimum) (6.0.4)\n",
      "Requirement already satisfied: yarl<2.0,>=1.0 in /cluster/home/danlin/vit/lib/python3.10/site-packages (from aiohttp->datasets->optimum) (1.9.3)\n",
      "Requirement already satisfied: frozenlist>=1.1.1 in /cluster/home/danlin/vit/lib/python3.10/site-packages (from aiohttp->datasets->optimum) (1.4.0)\n",
      "Requirement already satisfied: aiosignal>=1.1.2 in /cluster/home/danlin/vit/lib/python3.10/site-packages (from aiohttp->datasets->optimum) (1.3.1)\n",
      "Requirement already satisfied: async-timeout<5.0,>=4.0 in /cluster/home/danlin/vit/lib/python3.10/site-packages (from aiohttp->datasets->optimum) (4.0.3)\n",
      "Requirement already satisfied: charset-normalizer<4,>=2 in /cluster/home/danlin/vit/lib/python3.10/site-packages (from requests->huggingface-hub>=0.8.0->optimum) (2.0.4)\n",
      "Requirement already satisfied: idna<4,>=2.5 in /cluster/home/danlin/vit/lib/python3.10/site-packages (from requests->huggingface-hub>=0.8.0->optimum) (3.4)\n",
      "Requirement already satisfied: urllib3<3,>=1.21.1 in /cluster/home/danlin/vit/lib/python3.10/site-packages (from requests->huggingface-hub>=0.8.0->optimum) (1.26.18)\n",
      "Requirement already satisfied: certifi>=2017.4.17 in /cluster/home/danlin/vit/lib/python3.10/site-packages (from requests->huggingface-hub>=0.8.0->optimum) (2023.11.17)\n",
      "Requirement already satisfied: MarkupSafe>=2.0 in /cluster/home/danlin/vit/lib/python3.10/site-packages (from jinja2->torch>=1.9->optimum) (2.1.1)\n",
      "Requirement already satisfied: python-dateutil>=2.8.2 in /cluster/home/danlin/vit/lib/python3.10/site-packages (from pandas->datasets->optimum) (2.8.2)\n",
      "Requirement already satisfied: pytz>=2020.1 in /cluster/home/danlin/vit/lib/python3.10/site-packages (from pandas->datasets->optimum) (2023.3.post1)\n",
      "Requirement already satisfied: tzdata>=2022.1 in /cluster/home/danlin/vit/lib/python3.10/site-packages (from pandas->datasets->optimum) (2023.3)\n",
      "Requirement already satisfied: six>=1.5 in /cluster/home/danlin/vit/lib/python3.10/site-packages (from python-dateutil>=2.8.2->pandas->datasets->optimum) (1.16.0)\n",
      "Note: you may need to restart the kernel to use updated packages.\n"
     ]
    },
    {
     "name": "stderr",
     "output_type": "stream",
     "text": [
      "huggingface/tokenizers: The current process just got forked, after parallelism has already been used. Disabling parallelism to avoid deadlocks...\n",
      "To disable this warning, you can either:\n",
      "\t- Avoid using `tokenizers` before the fork if possible\n",
      "\t- Explicitly set the environment variable TOKENIZERS_PARALLELISM=(true | false)\n"
     ]
    },
    {
     "name": "stdout",
     "output_type": "stream",
     "text": [
      "Requirement already satisfied: auto-gptq in /cluster/home/danlin/vit/lib/python3.10/site-packages (0.5.1)\n",
      "Requirement already satisfied: accelerate>=0.22.0 in /cluster/home/danlin/vit/lib/python3.10/site-packages (from auto-gptq) (0.24.1)\n",
      "Requirement already satisfied: datasets in /cluster/home/danlin/vit/lib/python3.10/site-packages (from auto-gptq) (2.14.7)\n",
      "Requirement already satisfied: sentencepiece in /cluster/home/danlin/vit/lib/python3.10/site-packages (from auto-gptq) (0.1.99)\n",
      "Requirement already satisfied: numpy in /cluster/home/danlin/vit/lib/python3.10/site-packages (from auto-gptq) (1.26.0)\n",
      "Requirement already satisfied: rouge in /cluster/home/danlin/vit/lib/python3.10/site-packages (from auto-gptq) (1.0.1)\n",
      "Requirement already satisfied: gekko in /cluster/home/danlin/vit/lib/python3.10/site-packages (from auto-gptq) (1.0.6)\n",
      "Requirement already satisfied: torch>=1.13.0 in /cluster/home/danlin/vit/lib/python3.10/site-packages (from auto-gptq) (2.0.1)\n",
      "Requirement already satisfied: safetensors in /cluster/home/danlin/vit/lib/python3.10/site-packages (from auto-gptq) (0.4.1)\n",
      "Requirement already satisfied: transformers>=4.31.0 in /cluster/home/danlin/vit/lib/python3.10/site-packages (from auto-gptq) (4.34.0.dev0)\n",
      "Requirement already satisfied: peft>=0.5.0 in /cluster/home/danlin/vit/lib/python3.10/site-packages (from auto-gptq) (0.6.2)\n",
      "Requirement already satisfied: tqdm in /cluster/home/danlin/vit/lib/python3.10/site-packages (from auto-gptq) (4.66.1)\n",
      "Requirement already satisfied: packaging>=20.0 in /cluster/home/danlin/vit/lib/python3.10/site-packages (from accelerate>=0.22.0->auto-gptq) (23.1)\n",
      "Requirement already satisfied: psutil in /cluster/home/danlin/vit/lib/python3.10/site-packages (from accelerate>=0.22.0->auto-gptq) (5.9.0)\n",
      "Requirement already satisfied: pyyaml in /cluster/home/danlin/vit/lib/python3.10/site-packages (from accelerate>=0.22.0->auto-gptq) (6.0.1)\n",
      "Requirement already satisfied: huggingface-hub in /cluster/home/danlin/vit/lib/python3.10/site-packages (from accelerate>=0.22.0->auto-gptq) (0.17.3)\n",
      "Requirement already satisfied: filelock in /cluster/home/danlin/vit/lib/python3.10/site-packages (from torch>=1.13.0->auto-gptq) (3.13.1)\n",
      "Requirement already satisfied: typing-extensions in /cluster/home/danlin/vit/lib/python3.10/site-packages (from torch>=1.13.0->auto-gptq) (4.7.1)\n",
      "Requirement already satisfied: sympy in /cluster/home/danlin/vit/lib/python3.10/site-packages (from torch>=1.13.0->auto-gptq) (1.11.1)\n",
      "Requirement already satisfied: networkx in /cluster/home/danlin/vit/lib/python3.10/site-packages (from torch>=1.13.0->auto-gptq) (3.1)\n",
      "Requirement already satisfied: jinja2 in /cluster/home/danlin/vit/lib/python3.10/site-packages (from torch>=1.13.0->auto-gptq) (3.1.2)\n",
      "Requirement already satisfied: regex!=2019.12.17 in /cluster/home/danlin/vit/lib/python3.10/site-packages (from transformers>=4.31.0->auto-gptq) (2023.10.3)\n",
      "Requirement already satisfied: requests in /cluster/home/danlin/vit/lib/python3.10/site-packages (from transformers>=4.31.0->auto-gptq) (2.31.0)\n",
      "Requirement already satisfied: tokenizers<0.15,>=0.14 in /cluster/home/danlin/vit/lib/python3.10/site-packages (from transformers>=4.31.0->auto-gptq) (0.14.1)\n",
      "Requirement already satisfied: pyarrow>=8.0.0 in /cluster/home/danlin/vit/lib/python3.10/site-packages (from datasets->auto-gptq) (14.0.1)\n",
      "Requirement already satisfied: pyarrow-hotfix in /cluster/home/danlin/vit/lib/python3.10/site-packages (from datasets->auto-gptq) (0.6)\n",
      "Requirement already satisfied: dill<0.3.8,>=0.3.0 in /cluster/home/danlin/vit/lib/python3.10/site-packages (from datasets->auto-gptq) (0.3.7)\n",
      "Requirement already satisfied: pandas in /cluster/home/danlin/vit/lib/python3.10/site-packages (from datasets->auto-gptq) (2.1.3)\n",
      "Requirement already satisfied: xxhash in /cluster/home/danlin/vit/lib/python3.10/site-packages (from datasets->auto-gptq) (3.4.1)\n",
      "Requirement already satisfied: multiprocess in /cluster/home/danlin/vit/lib/python3.10/site-packages (from datasets->auto-gptq) (0.70.15)\n",
      "Requirement already satisfied: fsspec<=2023.10.0,>=2023.1.0 in /cluster/home/danlin/vit/lib/python3.10/site-packages (from fsspec[http]<=2023.10.0,>=2023.1.0->datasets->auto-gptq) (2023.10.0)\n",
      "Requirement already satisfied: aiohttp in /cluster/home/danlin/vit/lib/python3.10/site-packages (from datasets->auto-gptq) (3.9.1)\n",
      "Requirement already satisfied: six in /cluster/home/danlin/vit/lib/python3.10/site-packages (from rouge->auto-gptq) (1.16.0)\n",
      "Requirement already satisfied: attrs>=17.3.0 in /cluster/home/danlin/vit/lib/python3.10/site-packages (from aiohttp->datasets->auto-gptq) (23.1.0)\n",
      "Requirement already satisfied: multidict<7.0,>=4.5 in /cluster/home/danlin/vit/lib/python3.10/site-packages (from aiohttp->datasets->auto-gptq) (6.0.4)\n",
      "Requirement already satisfied: yarl<2.0,>=1.0 in /cluster/home/danlin/vit/lib/python3.10/site-packages (from aiohttp->datasets->auto-gptq) (1.9.3)\n",
      "Requirement already satisfied: frozenlist>=1.1.1 in /cluster/home/danlin/vit/lib/python3.10/site-packages (from aiohttp->datasets->auto-gptq) (1.4.0)\n",
      "Requirement already satisfied: aiosignal>=1.1.2 in /cluster/home/danlin/vit/lib/python3.10/site-packages (from aiohttp->datasets->auto-gptq) (1.3.1)\n",
      "Requirement already satisfied: async-timeout<5.0,>=4.0 in /cluster/home/danlin/vit/lib/python3.10/site-packages (from aiohttp->datasets->auto-gptq) (4.0.3)\n",
      "Requirement already satisfied: charset-normalizer<4,>=2 in /cluster/home/danlin/vit/lib/python3.10/site-packages (from requests->transformers>=4.31.0->auto-gptq) (2.0.4)\n",
      "Requirement already satisfied: idna<4,>=2.5 in /cluster/home/danlin/vit/lib/python3.10/site-packages (from requests->transformers>=4.31.0->auto-gptq) (3.4)\n",
      "Requirement already satisfied: urllib3<3,>=1.21.1 in /cluster/home/danlin/vit/lib/python3.10/site-packages (from requests->transformers>=4.31.0->auto-gptq) (1.26.18)\n",
      "Requirement already satisfied: certifi>=2017.4.17 in /cluster/home/danlin/vit/lib/python3.10/site-packages (from requests->transformers>=4.31.0->auto-gptq) (2023.11.17)\n",
      "Requirement already satisfied: MarkupSafe>=2.0 in /cluster/home/danlin/vit/lib/python3.10/site-packages (from jinja2->torch>=1.13.0->auto-gptq) (2.1.1)\n",
      "Requirement already satisfied: python-dateutil>=2.8.2 in /cluster/home/danlin/vit/lib/python3.10/site-packages (from pandas->datasets->auto-gptq) (2.8.2)\n",
      "Requirement already satisfied: pytz>=2020.1 in /cluster/home/danlin/vit/lib/python3.10/site-packages (from pandas->datasets->auto-gptq) (2023.3.post1)\n",
      "Requirement already satisfied: tzdata>=2022.1 in /cluster/home/danlin/vit/lib/python3.10/site-packages (from pandas->datasets->auto-gptq) (2023.3)\n",
      "Requirement already satisfied: mpmath>=0.19 in /cluster/home/danlin/vit/lib/python3.10/site-packages (from sympy->torch>=1.13.0->auto-gptq) (1.3.0)\n",
      "Note: you may need to restart the kernel to use updated packages.\n"
     ]
    },
    {
     "name": "stderr",
     "output_type": "stream",
     "text": [
      "huggingface/tokenizers: The current process just got forked, after parallelism has already been used. Disabling parallelism to avoid deadlocks...\n",
      "To disable this warning, you can either:\n",
      "\t- Avoid using `tokenizers` before the fork if possible\n",
      "\t- Explicitly set the environment variable TOKENIZERS_PARALLELISM=(true | false)\n"
     ]
    },
    {
     "name": "stdout",
     "output_type": "stream",
     "text": [
      "Collecting annoy\n",
      "  Downloading annoy-1.17.3.tar.gz (647 kB)\n",
      "\u001b[2K     \u001b[38;2;114;156;31m━━━━━━━━━━━━━━━━━━━━━━━━━━━━━━━━━━━━━━━\u001b[0m \u001b[32m647.5/647.5 kB\u001b[0m \u001b[31m2.6 MB/s\u001b[0m eta \u001b[36m0:00:00\u001b[0mm eta \u001b[36m0:00:01\u001b[0m0:01\u001b[0m:01\u001b[0m\n",
      "\u001b[?25h  Preparing metadata (setup.py) ... \u001b[?25ldone\n",
      "\u001b[?25hBuilding wheels for collected packages: annoy\n",
      "  Building wheel for annoy (setup.py) ... \u001b[?25ldone\n",
      "\u001b[?25h  Created wheel for annoy: filename=annoy-1.17.3-cp310-cp310-linux_x86_64.whl size=69256 sha256=7781c2b78ab19ff2fa27955e37eaad82b97b9bcf5b42ac4dbe6aedc5b00ea9ac\n",
      "  Stored in directory: /cluster/home/danlin/.cache/pip/wheels/64/8a/da/f714bcf46c5efdcfcac0559e63370c21abe961c48e3992465a\n",
      "Successfully built annoy\n",
      "Installing collected packages: annoy\n",
      "Successfully installed annoy-1.17.3\n",
      "Note: you may need to restart the kernel to use updated packages.\n"
     ]
    }
   ],
   "source": [
    "%pip install accelerate\n",
    "%pip install git+https://github.com/huggingface/transformers.git@72958fcd3c98a7afdc61f953aa58c544ebda2f79\n",
    "%pip install optimum\n",
    "%pip install auto-gptq\n",
    "%pip install annoy"
   ]
  },
  {
   "cell_type": "code",
   "execution_count": 2,
   "id": "bd063685",
   "metadata": {},
   "outputs": [],
   "source": [
    "import torch\n",
    "import os"
   ]
  },
  {
   "cell_type": "code",
   "execution_count": 3,
   "id": "4569762c",
   "metadata": {},
   "outputs": [
    {
     "data": {
      "text/plain": [
       "True"
      ]
     },
     "execution_count": 3,
     "metadata": {},
     "output_type": "execute_result"
    }
   ],
   "source": [
    "torch.cuda.is_available()"
   ]
  },
  {
   "cell_type": "markdown",
   "id": "e2b168bc",
   "metadata": {},
   "source": [
    "#### Loading the model"
   ]
  },
  {
   "cell_type": "code",
   "execution_count": 8,
   "id": "55912202",
   "metadata": {},
   "outputs": [
    {
     "name": "stderr",
     "output_type": "stream",
     "text": [
      "Special tokens have been added in the vocabulary, make sure the associated word embeddings are fine-tuned or trained.\n"
     ]
    }
   ],
   "source": [
    "from transformers import AutoModelForCausalLM, AutoTokenizer\n",
    "\n",
    "model_name_or_path = \"./models/Mistral-7B-Instruct-v0.1-GPTQ\"\n",
    "device = \"cuda\"\n",
    "\n",
    "# Load the model\n",
    "model = AutoModelForCausalLM.from_pretrained(\n",
    "    model_name_or_path,\n",
    "    device_map=\"auto\",\n",
    "    trust_remote_code=False,\n",
    "    revision=\"gptq-4bit-32g-actorder_True\",\n",
    ").to(device)\n",
    "\n",
    "# Load the tokenizer\n",
    "tokenizer = AutoTokenizer.from_pretrained(\n",
    "    model_name_or_path, use_fast=True\n",
    ")"
   ]
  },
  {
   "cell_type": "markdown",
   "id": "7fc60b5b",
   "metadata": {},
   "source": [
    "#### Creating  the vector database"
   ]
  },
  {
   "cell_type": "code",
   "execution_count": 9,
   "id": "73de28df",
   "metadata": {},
   "outputs": [],
   "source": [
    "#research_texts_dir = \"/cluster/projects/vc/data/dt/health/dt_llm/Publications\" # pdfs not txt\n",
    "media_texts_dir = \"/cluster/projects/vc/data/dt/health/dt_llm/Media/Texts\""
   ]
  },
  {
   "cell_type": "code",
   "execution_count": 20,
   "id": "58c3ba87",
   "metadata": {},
   "outputs": [
    {
     "name": "stdout",
     "output_type": "stream",
     "text": [
      "Number of files read from '/cluster/projects/vc/data/dt/health/dt_llm/Media/Texts': 132\n"
     ]
    }
   ],
   "source": [
    "import os\n",
    "\n",
    "def read_text_files(directory):\n",
    "    texts = []\n",
    "    file_paths = []\n",
    "    for filename in os.listdir(directory):\n",
    "        if filename.endswith('.txt'):\n",
    "            file_path = os.path.join(directory, filename)\n",
    "            with open(file_path, 'r', encoding='utf-8') as file:\n",
    "                texts.append(file.read())\n",
    "                file_paths.append(file_path)\n",
    "    return texts, file_paths\n",
    "\n",
    "# Read texts from the media_texts_dir\n",
    "media_texts, media_files = read_text_files(media_texts_dir)"
   ]
  },
  {
   "cell_type": "code",
   "execution_count": 23,
   "id": "64e12c85",
   "metadata": {},
   "outputs": [
    {
     "name": "stdout",
     "output_type": "stream",
     "text": [
      "First vector size: (4096,)\n"
     ]
    }
   ],
   "source": [
    "def vectorize_texts(texts, tokenizer, model, device):\n",
    "    vectors = []\n",
    "    for text in texts:\n",
    "        inputs = tokenizer(text, return_tensors='pt', truncation=True, max_length=512).to(device)\n",
    "        with torch.no_grad():\n",
    "            # Ensure we're outputting hidden states\n",
    "            outputs = model(**inputs, output_hidden_states=True)\n",
    "        # Take the last hidden state\n",
    "        last_hidden_state = outputs.hidden_states[-1]\n",
    "        # Calculate the mean across the token dimension and add to vectors\n",
    "        vectors.append(last_hidden_state.mean(dim=1).cpu().numpy()[0])\n",
    "    return vectors\n",
    "\n",
    "# Vectorize the texts\n",
    "media_vectors = vectorize_texts(media_texts, tokenizer, model, device)"
   ]
  },
  {
   "cell_type": "code",
   "execution_count": 24,
   "id": "ff2e7db5",
   "metadata": {},
   "outputs": [
    {
     "name": "stdout",
     "output_type": "stream",
     "text": [
      "Annoy index created and saved.\n"
     ]
    }
   ],
   "source": [
    "import annoy\n",
    "\n",
    "# Initialize the Annoy index\n",
    "vector_size = 4096  # As confirmed from the vector size\n",
    "index = annoy.AnnoyIndex(vector_size, 'angular')\n",
    "\n",
    "# Add vectors to the index\n",
    "for i, vec in enumerate(media_vectors):\n",
    "    index.add_item(i, vec)\n",
    "\n",
    "# Build the index\n",
    "index.build(10)  # Number of trees\n",
    "\n",
    "# Save the index to disk\n",
    "index.save('media_texts_index.ann')\n",
    "\n",
    "print(\"Annoy index created and saved.\")\n"
   ]
  },
  {
   "cell_type": "code",
   "execution_count": 6,
   "id": "432b79b0",
   "metadata": {},
   "outputs": [
    {
     "name": "stderr",
     "output_type": "stream",
     "text": [
      "Resolving data files: 100%|███████████████| 132/132 [00:00<00:00, 294493.69it/s]\n",
      "Map:   0%|                                      | 0/5740 [00:00<?, ? examples/s]Asking to pad to max_length but no maximum length is provided and the model has no predefined maximum length. Default to no padding.\n",
      "Asking to truncate to max_length but no maximum length is provided and the model has no predefined maximum length. Default to no truncation.\n",
      "Map: 100%|█████████████████████████| 5740/5740 [00:01<00:00, 5274.04 examples/s]\n"
     ]
    }
   ],
   "source": [
    "from datasets import load_dataset\n",
    "\n",
    "dataset = load_dataset('text', data_files={'train': f'{media_texts_dir}/*.txt'})\n",
    "\n",
    "def tokenize_function(examples):\n",
    "    return tokenizer(examples[\"text\"], padding=\"max_length\", truncation=True)\n",
    "\n",
    "tokenized_datasets = dataset.map(tokenize_function, batched=True)\n",
    "\n",
    "from transformers import TrainingArguments, Trainer\n",
    "\n",
    "training_args = TrainingArguments(\n",
    "    output_dir=\"./models/Mistral-7B-Instruct-v0.1-GPTQ_finetuned\",\n",
    "    num_train_epochs=3, # or more, depending on your data and needs\n",
    "    per_device_train_batch_size=4, # can be adjusted based on your GPU\n",
    "    logging_dir='./logs',\n",
    "    logging_steps=10,\n",
    ")"
   ]
  },
  {
   "cell_type": "code",
   "execution_count": 7,
   "id": "5d6be27f",
   "metadata": {},
   "outputs": [
    {
     "name": "stderr",
     "output_type": "stream",
     "text": [
      "Detected kernel version 4.18.0, which is below the recommended minimum of 5.5.0; this can cause the process to hang. It is recommended to upgrade the kernel to the minimum version or higher.\n"
     ]
    },
    {
     "ename": "ValueError",
     "evalue": "You cannot perform fine-tuning on purely quantized models. Please attach trainable adapters on top of the quantized model to correctly perform fine-tuning. Please see: https://huggingface.co/docs/transformers/peft for more details",
     "output_type": "error",
     "traceback": [
      "\u001b[0;31m---------------------------------------------------------------------------\u001b[0m",
      "\u001b[0;31mValueError\u001b[0m                                Traceback (most recent call last)",
      "Cell \u001b[0;32mIn[7], line 1\u001b[0m\n\u001b[0;32m----> 1\u001b[0m trainer \u001b[38;5;241m=\u001b[39m \u001b[43mTrainer\u001b[49m\u001b[43m(\u001b[49m\n\u001b[1;32m      2\u001b[0m \u001b[43m    \u001b[49m\u001b[43mmodel\u001b[49m\u001b[38;5;241;43m=\u001b[39;49m\u001b[43mmodel\u001b[49m\u001b[43m,\u001b[49m\n\u001b[1;32m      3\u001b[0m \u001b[43m    \u001b[49m\u001b[43margs\u001b[49m\u001b[38;5;241;43m=\u001b[39;49m\u001b[43mtraining_args\u001b[49m\u001b[43m,\u001b[49m\n\u001b[1;32m      4\u001b[0m \u001b[43m    \u001b[49m\u001b[43mtrain_dataset\u001b[49m\u001b[38;5;241;43m=\u001b[39;49m\u001b[43mtokenized_datasets\u001b[49m\u001b[43m[\u001b[49m\u001b[38;5;124;43m\"\u001b[39;49m\u001b[38;5;124;43mtrain\u001b[39;49m\u001b[38;5;124;43m\"\u001b[39;49m\u001b[43m]\u001b[49m\u001b[43m,\u001b[49m\n\u001b[1;32m      5\u001b[0m \u001b[43m    \u001b[49m\u001b[43mtokenizer\u001b[49m\u001b[38;5;241;43m=\u001b[39;49m\u001b[43mtokenizer\u001b[49m\u001b[43m,\u001b[49m\n\u001b[1;32m      6\u001b[0m \u001b[43m)\u001b[49m\n\u001b[1;32m      8\u001b[0m trainer\u001b[38;5;241m.\u001b[39mtrain()\n",
      "File \u001b[0;32m~/vit/lib/python3.10/site-packages/transformers/trainer.py:412\u001b[0m, in \u001b[0;36mTrainer.__init__\u001b[0;34m(self, model, args, data_collator, train_dataset, eval_dataset, tokenizer, model_init, compute_metrics, callbacks, optimizers, preprocess_logits_for_metrics)\u001b[0m\n\u001b[1;32m    410\u001b[0m \u001b[38;5;66;03m# At this stage the model is already loaded\u001b[39;00m\n\u001b[1;32m    411\u001b[0m \u001b[38;5;28;01mif\u001b[39;00m _is_quantized_and_base_model \u001b[38;5;129;01mand\u001b[39;00m \u001b[38;5;129;01mnot\u001b[39;00m _is_peft_model:\n\u001b[0;32m--> 412\u001b[0m     \u001b[38;5;28;01mraise\u001b[39;00m \u001b[38;5;167;01mValueError\u001b[39;00m(\n\u001b[1;32m    413\u001b[0m         \u001b[38;5;124m\"\u001b[39m\u001b[38;5;124mYou cannot perform fine-tuning on purely quantized models. Please attach trainable adapters on top of\u001b[39m\u001b[38;5;124m\"\u001b[39m\n\u001b[1;32m    414\u001b[0m         \u001b[38;5;124m\"\u001b[39m\u001b[38;5;124m the quantized model to correctly perform fine-tuning. Please see: https://huggingface.co/docs/transformers/peft\u001b[39m\u001b[38;5;124m\"\u001b[39m\n\u001b[1;32m    415\u001b[0m         \u001b[38;5;124m\"\u001b[39m\u001b[38;5;124m for more details\u001b[39m\u001b[38;5;124m\"\u001b[39m\n\u001b[1;32m    416\u001b[0m     )\n\u001b[1;32m    417\u001b[0m \u001b[38;5;28;01melif\u001b[39;00m _is_quantized_and_base_model \u001b[38;5;129;01mand\u001b[39;00m \u001b[38;5;129;01mnot\u001b[39;00m \u001b[38;5;28mgetattr\u001b[39m(model, \u001b[38;5;124m\"\u001b[39m\u001b[38;5;124m_is_quantized_training_enabled\u001b[39m\u001b[38;5;124m\"\u001b[39m, \u001b[38;5;28;01mFalse\u001b[39;00m):\n\u001b[1;32m    418\u001b[0m     \u001b[38;5;28;01mraise\u001b[39;00m \u001b[38;5;167;01mValueError\u001b[39;00m(\n\u001b[1;32m    419\u001b[0m         \u001b[38;5;124m\"\u001b[39m\u001b[38;5;124mThe model you want to train is loaded in 8-bit precision.  if you want to fine-tune an 8-bit\u001b[39m\u001b[38;5;124m\"\u001b[39m\n\u001b[1;32m    420\u001b[0m         \u001b[38;5;124m\"\u001b[39m\u001b[38;5;124m model, please make sure that you have installed `bitsandbytes>=0.37.0`. \u001b[39m\u001b[38;5;124m\"\u001b[39m\n\u001b[1;32m    421\u001b[0m     )\n",
      "\u001b[0;31mValueError\u001b[0m: You cannot perform fine-tuning on purely quantized models. Please attach trainable adapters on top of the quantized model to correctly perform fine-tuning. Please see: https://huggingface.co/docs/transformers/peft for more details"
     ]
    }
   ],
   "source": [
    "trainer = Trainer(\n",
    "    model=model,\n",
    "    args=training_args,\n",
    "    train_dataset=tokenized_datasets[\"train\"],\n",
    "    tokenizer=tokenizer,\n",
    ")\n",
    "\n",
    "trainer.train()"
   ]
  },
  {
   "cell_type": "code",
   "execution_count": null,
   "id": "cc85adee",
   "metadata": {},
   "outputs": [],
   "source": [
    "fine_tuned_model_path = \"./models/Mistral-7B-Instruct-v0.1-GPTQ_finetuned\"\n",
    "model.save_pretrained(fine_tuned_model_path)\n",
    "tokenizer.save_pretrained(fine_tuned_model_path)\n"
   ]
  }
 ],
 "metadata": {
  "kernelspec": {
   "display_name": "vit_kernel",
   "language": "python",
   "name": "vit_kernel"
  },
  "language_info": {
   "codemirror_mode": {
    "name": "ipython",
    "version": 3
   },
   "file_extension": ".py",
   "mimetype": "text/x-python",
   "name": "python",
   "nbconvert_exporter": "python",
   "pygments_lexer": "ipython3",
   "version": "3.10.13"
  }
 },
 "nbformat": 4,
 "nbformat_minor": 5
}
