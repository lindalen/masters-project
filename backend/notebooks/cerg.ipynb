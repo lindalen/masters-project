{
 "cells": [
  {
   "cell_type": "code",
   "execution_count": 49,
   "metadata": {},
   "outputs": [
    {
     "name": "stdout",
     "output_type": "stream",
     "text": [
      "WARNING:paperscraper.load_dumps: No dump found for biorxiv. Skipping entry.\n",
      "WARNING:paperscraper.load_dumps: No dump found for chemrxiv. Skipping entry.\n",
      "WARNING:paperscraper.load_dumps: No dump found for medrxiv. Skipping entry.\n",
      "WARNING:paperscraper.load_dumps: No dumps found for either biorxiv or medrxiv. Consider using paperscraper.get_dumps.* to fetch the dumps.\n"
     ]
    }
   ],
   "source": [
    "import requests\n",
    "from bs4 import BeautifulSoup\n",
    "import matplotlib.pyplot as plt\n",
    "import re\n",
    "from collections import Counter\n",
    "from urllib.parse import urlparse\n",
    "import PyPDF2\n",
    "from io import BytesIO\n",
    "import os\n",
    "from collections import Counter, defaultdict\n",
    "import paperscraper"
   ]
  },
  {
   "cell_type": "code",
   "execution_count": 50,
   "metadata": {},
   "outputs": [],
   "source": [
    "def sanitize_filename(filename):\n",
    "    # List of invalid characters for file names\n",
    "    invalid_chars = ['<', '>', ':', '\"', '/', '\\\\', '|', '?', '*']\n",
    "    for char in invalid_chars:\n",
    "        filename = filename.replace(char, '_')  # Replace invalid characters with underscore\n",
    "    return filename"
   ]
  },
  {
   "cell_type": "code",
   "execution_count": 51,
   "metadata": {},
   "outputs": [],
   "source": [
    "base_url = \"https://www.ntnu.no/cerg/publikasjoner/\" # 2023 studies are here\n",
    "years = range(2012, 2023)\n",
    "\n",
    "yearly_links = [f\"{base_url}{year}\" for year in years] + [base_url]"
   ]
  },
  {
   "cell_type": "code",
   "execution_count": 52,
   "metadata": {},
   "outputs": [
    {
     "name": "stdout",
     "output_type": "stream",
     "text": [
      "{'link': 'https://www.tandfonline.com/doi/full/10.3109/15412555.2012.745843', 'title': 'Aerobic exercise training improves right- and left ventricular systolic function in patients with COPD', 'year': '2012'}\n",
      "{'link': 'http://ntnu.no/cerg/publikasjoner/2012#2-13', 'title': 'Telomere Length and Long-Term Endurance Exercise: Does Exercise Training Affect Biological Age? A Pilot Study', 'year': '2012'}\n",
      "{'link': 'https://link.springer.com/article/10.2165%2F11630760-000000000-00000', 'title': 'Exercise-Training Intervention Studies in Competitive Swimming', 'year': '2012'}\n",
      "{'link': 'https://www.thieme-connect.com/products/ejournals/html/10.1055/s-0032-1316364', 'title': 'Recovery after an Intermittent Test', 'year': '2012'}\n",
      "{'link': 'https://journals.plos.org/plosone/article?id=10.1371/journal.pone.0050933', 'title': 'Insomnia and Endothelial Function – The HUNT 3 Fitness Study', 'year': '2012'}\n",
      "Link count: 298\n"
     ]
    }
   ],
   "source": [
    "# List to store the publication link objects\n",
    "publication_objects = []\n",
    "\n",
    "for yearly_link in yearly_links:\n",
    "    response = requests.get(yearly_link)\n",
    "    response.raise_for_status()\n",
    "    \n",
    "    soup = BeautifulSoup(response.text, 'html.parser')\n",
    "    \n",
    "    a_tags = soup.find_all('a', class_='ntnu-ibtn primary')\n",
    "    \n",
    "    for a_tag in a_tags:\n",
    "        link = a_tag['href']\n",
    "        \n",
    "        title_content = a_tag.contents[-1]\n",
    "        title = title_content.strip() if isinstance(title_content, str) else 'No Title Available'\n",
    "        \n",
    "        publication_object = {\n",
    "            'link': link,\n",
    "            'title': title,\n",
    "            'year': (yearly_link[-4:] if yearly_link[-4:].isdigit() else 2023)\n",
    "        }\n",
    "\n",
    "        publication_objects.append(publication_object)\n",
    "\n",
    "for pub_object in publication_objects[:5]:\n",
    "    print(pub_object)\n",
    "\n",
    "print(f\"Link count: {len(publication_objects)}\")"
   ]
  },
  {
   "cell_type": "code",
   "execution_count": 53,
   "metadata": {},
   "outputs": [
    {
     "name": "stdout",
     "output_type": "stream",
     "text": [
      "Link count: 297\n"
     ]
    }
   ],
   "source": [
    "# filter out non-links\n",
    "publication_objects = [pub for pub in publication_objects if pub[\"link\"].startswith(('http', 'https')) and ' ' not in pub[\"link\"]]\n",
    "print(f\"Link count: {len(publication_objects)}\")"
   ]
  },
  {
   "cell_type": "code",
   "execution_count": 54,
   "metadata": {},
   "outputs": [
    {
     "name": "stdout",
     "output_type": "stream",
     "text": [
      "Link count: 280\n"
     ]
    }
   ],
   "source": [
    "# List of domains to exclude\n",
    "excluded_domains = [\n",
    "    'content.iospress.com',\n",
    "    'downloads.hindawi.com',\n",
    "    'vev.medisin.ntnu.no',\n",
    "    'thieme-connect.com', # needs login\n",
    "    'mayoclinicproceedings.org', # paid\n",
    "    'ntnu.no/cerg/publikasjoner', # bad link\n",
    "    'insights.ovid.com', # login\n",
    "    'nature.com', # paid\n",
    "]\n",
    "\n",
    "# Filtering out links from the excluded domains\n",
    "publication_objects = [\n",
    "    pub for pub in publication_objects \n",
    "    if not any(domain in pub['link'] for domain in excluded_domains)\n",
    "]\n",
    "\n",
    "# Displaying the updated count of links\n",
    "print(f\"Link count: {len(publication_objects)}\")\n"
   ]
  },
  {
   "cell_type": "code",
   "execution_count": 55,
   "metadata": {},
   "outputs": [],
   "source": [
    "domain = urlparse(pub_object['link']).netloc"
   ]
  },
  {
   "cell_type": "code",
   "execution_count": 56,
   "metadata": {},
   "outputs": [],
   "source": [
    "# Organize publication_objects by domain\n",
    "publications_by_domain = defaultdict(list)\n",
    "for pub_object in publication_objects:\n",
    "    domain = urlparse(pub_object['link']).netloc\n",
    "    publications_by_domain[domain].append(pub_object)\n"
   ]
  },
  {
   "cell_type": "code",
   "execution_count": 57,
   "metadata": {},
   "outputs": [
    {
     "name": "stdout",
     "output_type": "stream",
     "text": [
      "Number of unique domains: 48\n"
     ]
    }
   ],
   "source": [
    "# Assume publication_objects is your original list of publication objects\n",
    "publication_links = [pub['link'] for pub in publication_objects]\n",
    "\n",
    "# Extract domains\n",
    "domains = [urlparse(link).netloc for link in publication_links]\n",
    "\n",
    "# Count unique domains\n",
    "unique_domains = set(domains)\n",
    "unique_domain_count = len(unique_domains)\n",
    "\n",
    "print(f\"Number of unique domains: {unique_domain_count}\")"
   ]
  },
  {
   "cell_type": "code",
   "execution_count": 63,
   "metadata": {},
   "outputs": [
    {
     "ename": "ImportError",
     "evalue": "cannot import name 'PaperScraper' from 'paperscraper' (c:\\Users\\dlind\\anaconda3\\envs\\masters2\\lib\\site-packages\\paperscraper\\__init__.py)",
     "output_type": "error",
     "traceback": [
      "\u001b[1;31m---------------------------------------------------------------------------\u001b[0m",
      "\u001b[1;31mImportError\u001b[0m                               Traceback (most recent call last)",
      "Cell \u001b[1;32mIn[63], line 1\u001b[0m\n\u001b[1;32m----> 1\u001b[0m \u001b[39mfrom\u001b[39;00m \u001b[39mpaperscraper\u001b[39;00m \u001b[39mimport\u001b[39;00m PaperScraper\n\u001b[0;32m      2\u001b[0m scraper \u001b[39m=\u001b[39m PaperScraper()\n\u001b[0;32m      3\u001b[0m \u001b[39m# Ensure the directory 'publications/' exists\u001b[39;00m\n",
      "\u001b[1;31mImportError\u001b[0m: cannot import name 'PaperScraper' from 'paperscraper' (c:\\Users\\dlind\\anaconda3\\envs\\masters2\\lib\\site-packages\\paperscraper\\__init__.py)"
     ]
    }
   ],
   "source": [
    "# Ensure the directory 'publications/' exists\n",
    "os.makedirs(os.path.join('..', 'data', 'publications'), exist_ok=True)\n",
    "\n",
    "# Updated Regex pattern to catch more variations of PDF links\n",
    "pdf_pattern = re.compile(r'(pdf|download|fulltext|printable|epdf)', re.IGNORECASE)\n",
    "\n",
    "def generate_pdfs(domain, publication_objects):\n",
    "    # Counter variables\n",
    "    success_count = 0\n",
    "    failed_links = []\n",
    "    corrupted_links = []\n",
    "\n",
    "    # Iterate over each publication object\n",
    "    for pub_object in publication_objects:\n",
    "        link = pub_object['link']\n",
    "        trx = paperscraper.extract_from_url(\"https://www.ncbi.nlm.nih.gov/pmc/articles/PMC3418173/\")\n",
    "        if trx:\n",
    "            print(trx)\n",
    "        response = requests.get(link)\n",
    "        if response.status_code != 200:\n",
    "            failed_links.append(link)\n",
    "            continue\n",
    "        \n",
    "        soup = BeautifulSoup(response.text, 'html.parser')\n",
    "        pdf_links = soup.find_all('a', href=True, string=pdf_pattern) + [a for a in soup.find_all('a', href=True) if pdf_pattern.search(a['href'])]\n",
    "\n",
    "        papers = paperscraper.scrape_url(link)\n",
    "        if papers:\n",
    "            pdf_links.extend([paper[\"url\"] for paper in papers])\n",
    "\n",
    "        if not pdf_links:\n",
    "            failed_links.append(link)\n",
    "            continue\n",
    "        \n",
    "        for pdf_link in pdf_links:\n",
    "            # Construct the complete URL if necessary\n",
    "            pdf_url = pdf_link['href']\n",
    "            if not pdf_url.startswith('http'):\n",
    "                pdf_url = urlparse(link)._replace(path=pdf_url).geturl()\n",
    "            \n",
    "            pdf_response = requests.get(pdf_url, stream=True)\n",
    "            if pdf_response.status_code != 200:\n",
    "                continue  # Try the next PDF link if the request wasn't successful\n",
    "            \n",
    "            # Construct file name and path\n",
    "            title_words = '_'.join(pub_object['title'].split(\" \")[:7])\n",
    "            title_shortened = sanitize_filename(title_words)\n",
    "            file_name = f\"{pub_object['year']}_{title_shortened}.pdf\"\n",
    "            file_path = os.path.join('..', 'data', 'publications', file_name)\n",
    "\n",
    "            # Save the PDF file\n",
    "            with open(file_path, 'wb') as pdf_file:\n",
    "                for chunk in pdf_response.iter_content(chunk_size=8192):\n",
    "                    pdf_file.write(chunk)\n",
    "            \n",
    "            # Check for PDF corruption\n",
    "            try:\n",
    "                with open(file_path, 'rb') as pdf_file:\n",
    "                    PyPDF2.PdfReader(pdf_file)\n",
    "                success_count += 1  # PDF is not corrupted\n",
    "                break  # Exit the loop as the PDF has been successfully downloaded and saved\n",
    "            except PyPDF2.errors.PdfReadError:\n",
    "                os.remove(file_path)  # Remove the corrupted PDF file\n",
    "                corrupted_links.append(pdf_url)\n",
    "\n",
    "    print(f\"Results for {domain}: {success_count} successes, {len(corrupted_links)} corruptions, {len(failed_links)} failures.\")\n",
    "    return success_count, failed_links, corrupted_links"
   ]
  },
  {
   "cell_type": "code",
   "execution_count": 62,
   "metadata": {},
   "outputs": [
    {
     "name": "stdout",
     "output_type": "stream",
     "text": [
      "Results for www.sciencedirect.com: 0 successes, 0 corruptions, 60 failures.\n"
     ]
    }
   ],
   "source": [
    "pubs = publications_by_domain[\"www.sciencedirect.com\"]\n",
    "success_count, failed_links, corrupted_links = generate_pdfs(\"www.sciencedirect.com\", pubs)"
   ]
  },
  {
   "cell_type": "code",
   "execution_count": 61,
   "metadata": {},
   "outputs": [
    {
     "data": {
      "text/plain": [
       "[{'link': 'https://www.sciencedirect.com/science/article/pii/S1440244013001849?via%3Dihub',\n",
       "  'title': 'Does rating of perceived exertion result in target exercise intensity during interval training in cardiac rehabilitation? A study of the Borg scale versus a heart rate monitor',\n",
       "  'year': '2013'},\n",
       " {'link': 'https://www.sciencedirect.com/science/article/pii/S0167527314019470',\n",
       "  'title': 'Remote ischemic preconditioning preserves mitochondrial function and activates pro-survival protein kinase Akt in the left ventricle during cardiac surgery: A randomized trial',\n",
       "  'year': '2014'},\n",
       " {'link': 'https://www.sciencedirect.com/science/article/pii/S0735109714058045',\n",
       "  'title': 'High-Intensity Interval Exercise Effectively Improves Cardiac Function in Patients With Type 2 Diabetes Mellitus and Diastolic Dysfunction: A Randomized Controlled Trial',\n",
       "  'year': '2014'},\n",
       " {'link': 'http://www.sciencedirect.com/science/article/pii/S0002914914017068',\n",
       "  'title': 'Coronary atheroma regression and plaque characteristics assessed by grayscale and radiofrequency intravascular ultrasound after aerobic exercise',\n",
       "  'year': '2014'},\n",
       " {'link': 'https://www.sciencedirect.com/science/article/pii/S1089860315300124',\n",
       "  'title': 'Acute dietary nitrate supplementation improves arterial endothelial function at high altitude: A double-blinded randomized controlled cross over study',\n",
       "  'year': '2015'},\n",
       " {'link': 'https://www.sciencedirect.com/science/article/pii/S000293431500786X',\n",
       "  'title': 'Protective Effect of Regular Physical Activity on Depression After Myocardial Infarction: The HUNT Study',\n",
       "  'year': '2015'},\n",
       " {'link': 'https://www.sciencedirect.com/science/article/pii/S0735109715004106',\n",
       "  'title': 'Blunted cardiomyocyte remodeling response in exercise-resistant rat',\n",
       "  'year': '2015'},\n",
       " {'link': 'http://www.sciencedirect.com/science/article/pii/S0025619616306280',\n",
       "  'title': 'Prediction of Cardiovascular Mortality by Estimated Cardiorespiratory Fitness Independent of Traditional Risk Factors: The HUNT Study',\n",
       "  'year': '2016'},\n",
       " {'link': 'http://www.sciencedirect.com/science/article/pii/S0002934316310695',\n",
       "  'title': 'Personalized Activity Intelligence (PAI) for Prevention of Cardiovascular Disease and Promotion of Physical Activity',\n",
       "  'year': '2016'},\n",
       " {'link': 'http://www.sciencedirect.com/science/article/pii/S0025619616304505',\n",
       "  'title': 'Sedentary Time, Cardiorespiratory Fitness, and Cardiovascular Risk Factor Clustering in Older Adults--the Generation 100 Study',\n",
       "  'year': '2016'},\n",
       " {'link': 'https://www.sciencedirect.com/science/article/pii/S0022282816301377',\n",
       "  'title': 'No Title Available',\n",
       "  'year': '2016'},\n",
       " {'link': 'https://www.sciencedirect.com/science/article/pii/S0894731716000225',\n",
       "  'title': 'No Title Available',\n",
       "  'year': '2016'},\n",
       " {'link': 'http://www.sciencedirect.com/science/article/pii/S0033062017300907',\n",
       "  'title': 'MicroRNAs as Important Regulators of Exercise Adaptation',\n",
       "  'year': '2017'},\n",
       " {'link': 'http://www.sciencedirect.com/science/article/pii/S2542454817300115',\n",
       "  'title': 'Combined Association of Cardiorespiratory Fitness and Body Fatness With Cardiometabolic Risk Factors in Older Norwegian Adults: The Generation 100 Study',\n",
       "  'year': '2017'},\n",
       " {'link': 'http://www.sciencedirect.com/science/article/pii/S0025619617301404',\n",
       "  'title': 'The Combined Association of Skeletal Muscle Strength and Physical Activity on Mortality in Older Women: The HUNT2 Study',\n",
       "  'year': '2017'},\n",
       " {'link': 'http://www.sciencedirect.com/science/article/pii/S003306201730052X',\n",
       "  'title': 'No Title Available',\n",
       "  'year': '2017'},\n",
       " {'link': 'https://www.sciencedirect.com/science/article/pii/S0033062017300518?via%3Dihub',\n",
       "  'title': 'High Intensity Interval Training for Maximizing Health Outcomes',\n",
       "  'year': '2017'},\n",
       " {'link': 'https://www.sciencedirect.com/science/article/pii/S0741521417300812',\n",
       "  'title': 'Calf raise exercise increases walking performance in patients with intermittent claudication',\n",
       "  'year': '2017'},\n",
       " {'link': 'http://www.sciencedirect.com/science/article/pii/S0033062017300427',\n",
       "  'title': 'No Title Available',\n",
       "  'year': '2017'},\n",
       " {'link': 'http://www.sciencedirect.com/science/article/pii/S0033062017300208',\n",
       "  'title': 'Global Fitness Levels: Findings From a Web-Based Surveillance Report',\n",
       "  'year': '2017'},\n",
       " {'link': 'https://www.sciencedirect.com/science/article/pii/S1440244018311708',\n",
       "  'title': 'No Title Available',\n",
       "  'year': '2018'},\n",
       " {'link': 'https://www.sciencedirect.com/science/article/pii/S0033062018301713',\n",
       "  'title': 'Meta-analysis of exercise training on left ventricular ejection fraction in heart failure with reduced ejection fraction: a 10-year update',\n",
       "  'year': '2018'},\n",
       " {'link': 'https://www.sciencedirect.com/science/article/pii/S0033062018301890',\n",
       "  'title': 'Temporal Changes in a Novel Metric of Physical Activity Tracking (Personal Activity Intelligence) and Mortality: The HUNT Study, Norway',\n",
       "  'year': '2018'},\n",
       " {'link': 'https://www.sciencedirect.com/science/article/pii/S1071916418309667',\n",
       "  'title': 'No Title Available',\n",
       "  'year': '2018'},\n",
       " {'link': 'https://www.sciencedirect.com/science/article/pii/S0735109718300986?via%3Dihub',\n",
       "  'title': 'No Title Available',\n",
       "  'year': '2018'},\n",
       " {'link': 'https://www.sciencedirect.com/science/article/pii/S0033062018300379',\n",
       "  'title': 'Effect of High Intensity Interval Training on Cardiac Function in Children with Obesity: a Randomised Controlled Trial',\n",
       "  'year': '2018'},\n",
       " {'link': 'https://www.sciencedirect.com/science/article/pii/S0167527319313385',\n",
       "  'title': 'Peak oxygen pulse responses during maximal cardiopulmonary exercise testing: Reference standards from FRIEND (Fitness Registry and the Importance of Exercise: an International Database)',\n",
       "  'year': '2019'},\n",
       " {'link': 'https://www.sciencedirect.com/science/article/pii/S0021915019314261',\n",
       "  'title': 'Circulating microRNAs as predictive biomarkers of myocardial infarction: Evidence from the HUNT study',\n",
       "  'year': '2019'},\n",
       " {'link': 'https://www.sciencedirect.com/science/article/abs/pii/S0025619618308450',\n",
       "  'title': 'No Title Available',\n",
       "  'year': '2019'},\n",
       " {'link': 'https://www.sciencedirect.com/science/article/pii/S0033062019300477',\n",
       "  'title': 'No Title Available',\n",
       "  'year': '2019'},\n",
       " {'link': 'https://www.sciencedirect.com/science/article/pii/S0033062019300386',\n",
       "  'title': 'Are the Neuroprotective Effects of Exercise Training Systematically Mediated?',\n",
       "  'year': '2019'},\n",
       " {'link': 'https://www.sciencedirect.com/science/article/pii/S0033062019300398',\n",
       "  'title': 'Personal activity intelligence (PAI): A new standard in activity tracking for obtaining a healthy cardiorespiratory fitness level and low cardiovascular risk.',\n",
       "  'year': '2019'},\n",
       " {'link': 'https://www.sciencedirect.com/science/article/pii/S0033062019300337',\n",
       "  'title': 'No Title Available',\n",
       "  'year': '2019'},\n",
       " {'link': 'https://www.sciencedirect.com/science/article/pii/S0033062020302036',\n",
       "  'title': 'Temporal changes in personal activity intelligence and mortality: Data from the aerobics center longitudinal study',\n",
       "  'year': '2020'},\n",
       " {'link': 'https://www.sciencedirect.com/science/article/pii/S0033062020301596',\n",
       "  'title': 'Age-related change in peak oxygen uptake and change of cardiovascular risk factors. The HUNT Study',\n",
       "  'year': '2020'},\n",
       " {'link': 'https://www.sciencedirect.com/science/article/pii/S0022282820302728',\n",
       "  'title': 'Exercise training reveals micro-RNAs associated with improved cardiac function and electrophysiology in rats with heart failure after myocardial infarction',\n",
       "  'year': '2020'},\n",
       " {'link': 'https://www.sciencedirect.com/science/article/pii/S0033062020301134',\n",
       "  'title': 'Personal activity intelligence and mortality – Data from the Aerobics Center Longitudinal Study',\n",
       "  'year': '2020'},\n",
       " {'link': 'https://www.sciencedirect.com/science/article/pii/S2212877820300867?',\n",
       "  'title': 'Exercise training reverses cancer-induced oxidative stress and decrease in muscle COPS2/TRIP15/ALIEN',\n",
       "  'year': '2020'},\n",
       " {'link': 'https://www.sciencedirect.com/science/article/pii/S0003999320301416',\n",
       "  'title': 'Effects of High-Intensity Interval Training After Stroke (the HIIT-Stroke Study): A Multicenter Randomized Controlled Trial',\n",
       "  'year': '2020'},\n",
       " {'link': 'https://www.sciencedirect.com/science/article/abs/pii/S0033062020300311',\n",
       "  'title': 'Identification of novel genetic variants associated with cardiorespiratory fitness',\n",
       "  'year': '2020'},\n",
       " {'link': 'https://www.sciencedirect.com/science/article/pii/S0025619621008065',\n",
       "  'title': 'Association Between Personal Activity Intelligence and Mortality: Population-Based China Kadoorie Biobank Study',\n",
       "  'year': '2021'},\n",
       " {'link': 'https://www.sciencedirect.com/science/article/pii/S2542454821001090',\n",
       "  'title': 'The Long-term Effect of Different Exercise Intensities on High-Density Lipoprotein Cholesterol in Older Men and Women Using the Per Protocol Approach: The Generation 100 Study',\n",
       "  'year': '2021'},\n",
       " {'link': 'https://www.sciencedirect.com/science/article/pii/S0033062021000761',\n",
       "  'title': 'Exercising immune cells: The immunomodulatory role of exercise on atrial fibrillation',\n",
       "  'year': '2021'},\n",
       " {'link': 'https://www.sciencedirect.com/science/article/pii/S0003999321004366',\n",
       "  'title': 'Effects of High-Intensity Interval Training after Stroke (The HIIT Stroke Study) on Physical and Cognitive Function: A Multicenter Randomized Controlled Trial: Treadmill interval training after stroke',\n",
       "  'year': '2021'},\n",
       " {'link': 'https://www.sciencedirect.com/science/article/pii/S2211124721003326',\n",
       "  'title': 'Skeletal muscle heme oxygenase-1 activity regulates aerobic capacity',\n",
       "  'year': '2021'},\n",
       " {'link': 'https://www.sciencedirect.com/science/article/pii/S2666602222001197',\n",
       "  'title': 'Moderate continuous or high intensity interval exercise in heart failure with reduced ejection fraction: Differences between ischemic and non-ischemic etiology',\n",
       "  'year': '2022'},\n",
       " {'link': 'https://www.sciencedirect.com/science/article/pii/S2589537022003376',\n",
       "  'title': 'Temporal changes in personal activity intelligence and the risk of incident dementia and dementia related mortality: a prospective cohort study (HUNT)',\n",
       "  'year': '2022'},\n",
       " {'link': 'https://www.sciencedirect.com/science/article/pii/S1053811922003500',\n",
       "  'title': 'Longitudinal study of the effect of a 5-year exercise intervention on structural brain complexity in older adults. A Generation 100 substudy',\n",
       "  'year': '2022'},\n",
       " {'link': 'https://www.sciencedirect.com/science/article/pii/S0021915022000156',\n",
       "  'title': 'Atherogenic lipidomics profile in healthy individuals with low cardiorespiratory fitness: The HUNT3 fitness study',\n",
       "  'year': '2022'},\n",
       " {'link': 'https://www.sciencedirect.com/science/article/pii/S1568163722000010',\n",
       "  'title': 'Can Exercise Training Teach Us How to Treat Alzheimer’s disease?',\n",
       "  'year': '2022'},\n",
       " {'link': 'https://www.sciencedirect.com/science/article/pii/S2095254623000728',\n",
       "  'title': \"Exercised blood plasma promotes hippocampal neurogenesis in the Alzheimer's disease rat brain\",\n",
       "  'year': 2023},\n",
       " {'link': 'https://www.sciencedirect.com/science/article/pii/S2352906723000465',\n",
       "  'title': 'The association between circulating lipoprotein subfractions and lipid content in coronary atheromatous plaques assessed by near-infrared spectroscopy',\n",
       "  'year': 2023},\n",
       " {'link': 'https://www.sciencedirect.com/science/article/pii/S2213177923000306',\n",
       "  'title': 'Effect of Training on Vascular Function and Repair in Heart\\xa0Failure With Preserved Ejection Fraction',\n",
       "  'year': 2023},\n",
       " {'link': 'https://www.sciencedirect.com/science/article/pii/S2468867323000196',\n",
       "  'title': 'The genetic basis of exercise and cardiorespiratory fitness–Relation to cardiovascular disease',\n",
       "  'year': 2023},\n",
       " {'link': 'https://www.sciencedirect.com/science/article/pii/S2772487523000041',\n",
       "  'title': 'Age-related decline in peak oxygen uptake: Cross-sectional vs. longitudinal findings. A review',\n",
       "  'year': 2023},\n",
       " {'link': 'https://www.sciencedirect.com/science/article/pii/S2666602222001197',\n",
       "  'title': 'Moderate continuous or high intensity interval exercise in heart failure with reduced ejection fraction: Differences between ischemic and non-ischemic etiology',\n",
       "  'year': 2023},\n",
       " {'link': 'https://www.sciencedirect.com/science/article/pii/S2589537022003376',\n",
       "  'title': 'Temporal changes in personal activity intelligence and the risk of incident dementia and dementia related mortality: a prospective cohort study (HUNT)',\n",
       "  'year': 2023},\n",
       " {'link': 'https://www.sciencedirect.com/science/article/pii/S1053811922003500',\n",
       "  'title': 'Longitudinal study of the effect of a 5-year exercise intervention on structural brain complexity in older adults. A Generation 100 substudy',\n",
       "  'year': 2023},\n",
       " {'link': 'https://www.sciencedirect.com/science/article/pii/S0021915022000156',\n",
       "  'title': 'Atherogenic lipidomics profile in healthy individuals with low cardiorespiratory fitness: The HUNT3 fitness study',\n",
       "  'year': 2023},\n",
       " {'link': 'https://www.sciencedirect.com/science/article/pii/S1568163722000010',\n",
       "  'title': 'Can Exercise Training Teach Us How to Treat Alzheimer’s disease?',\n",
       "  'year': 2023}]"
      ]
     },
     "execution_count": 61,
     "metadata": {},
     "output_type": "execute_result"
    }
   ],
   "source": [
    "publications_by_domain[\"www.sciencedirect.com\"]"
   ]
  },
  {
   "cell_type": "code",
   "execution_count": null,
   "metadata": {},
   "outputs": [
    {
     "name": "stdout",
     "output_type": "stream",
     "text": [
      "Results for www.tandfonline.com: 0 successes, 0 corruptions, 7 failures.\n",
      "Results for link.springer.com: 10 successes, 1 corruptions, 7 failures.\n",
      "Results for journals.plos.org: 0 successes, 0 corruptions, 1 failures.\n",
      "Results for erj.ersjournals.com: 3 successes, 24 corruptions, 0 failures.\n",
      "Results for academic.oup.com: 0 successes, 0 corruptions, 19 failures.\n",
      "Results for journals.lww.com: 0 successes, 0 corruptions, 17 failures.\n",
      "Results for tidsskriftet.no: 2 successes, 0 corruptions, 0 failures.\n",
      "Results for www.ahajournals.org: 0 successes, 0 corruptions, 14 failures.\n",
      "Results for journals.sagepub.com: 0 successes, 0 corruptions, 4 failures.\n",
      "Results for onlinelibrary.wiley.com: 0 successes, 0 corruptions, 16 failures.\n",
      "Results for www.sciencedirect.com: 0 successes, 0 corruptions, 60 failures.\n",
      "Results for journals.physiology.org: 0 successes, 0 corruptions, 10 failures.\n",
      "Results for respiratory-research.biomedcentral.com: 2 successes, 0 corruptions, 0 failures.\n",
      "Results for physoc.onlinelibrary.wiley.com: 0 successes, 0 corruptions, 7 failures.\n",
      "Results for journal.chestnet.org: 0 successes, 0 corruptions, 1 failures.\n",
      "Results for bjsm.bmj.com: 1 successes, 4 corruptions, 0 failures.\n",
      "Results for journals.humankinetics.com: 0 successes, 0 corruptions, 6 failures.\n",
      "Results for www.physiology.org: 0 successes, 0 corruptions, 2 failures.\n",
      "Results for pediatrics.aappublications.org: 0 successes, 0 corruptions, 1 failures.\n",
      "Results for nutritionj.biomedcentral.com: 1 successes, 0 corruptions, 0 failures.\n",
      "Results for bmcgeriatr.biomedcentral.com: 3 successes, 1 corruptions, 0 failures.\n",
      "Results for www.hoajonline.com: 0 successes, 0 corruptions, 1 failures.\n",
      "Results for www.hindawi.com: 1 successes, 0 corruptions, 0 failures.\n",
      "Results for bmjopensem.bmj.com: 2 successes, 6 corruptions, 0 failures.\n",
      "Results for bmcgenomics.biomedcentral.com: 1 successes, 0 corruptions, 0 failures.\n",
      "Results for www.pnas.org: 0 successes, 0 corruptions, 1 failures.\n",
      "Results for circres.ahajournals.org: 0 successes, 0 corruptions, 1 failures.\n",
      "Results for translational-medicine.biomedcentral.com: 1 successes, 0 corruptions, 0 failures.\n",
      "Results for www.jsams.org: 0 successes, 0 corruptions, 1 failures.\n",
      "Results for www.internationaljournalofcardiology.com: 0 successes, 0 corruptions, 2 failures.\n",
      "Results for circ.ahajournals.org: 0 successes, 0 corruptions, 1 failures.\n",
      "Results for rmdopen.bmj.com: 3 successes, 8 corruptions, 0 failures.\n",
      "Results for www.frontiersin.org: 10 successes, 0 corruptions, 0 failures.\n",
      "Results for www.escardio.org: 0 successes, 0 corruptions, 0 failures.\n",
      "Results for www.thelancet.com: 0 successes, 0 corruptions, 2 failures.\n",
      "Results for ijbnpa.biomedcentral.com: 1 successes, 0 corruptions, 0 failures.\n",
      "Results for www.mdpi.com: 3 successes, 0 corruptions, 0 failures.\n",
      "Results for bmcpulmmed.biomedcentral.com: 1 successes, 0 corruptions, 0 failures.\n",
      "Results for www.bmj.com: 1 successes, 17 corruptions, 0 failures.\n",
      "Results for research.tees.ac.uk: 1 successes, 0 corruptions, 0 failures.\n",
      "Results for www.science.org: 0 successes, 0 corruptions, 1 failures.\n",
      "Results for www.dovepress.com: 0 successes, 17 corruptions, 0 failures.\n",
      "Results for europepmc.org: 0 successes, 1 corruptions, 0 failures.\n",
      "Results for jamanetwork.com: 0 successes, 0 corruptions, 1 failures.\n",
      "Results for openheart.bmj.com: 2 successes, 12 corruptions, 0 failures.\n",
      "Results for www.aging-us.com: 2 successes, 0 corruptions, 0 failures.\n"
     ]
    }
   ],
   "source": [
    "results_dict = {}\n",
    "\n",
    "for domain, pubs in publications_by_domain.items():\n",
    "    success_count, failed_links, corrupted_links = generate_pdfs(domain, pubs)\n",
    "    \n",
    "    # Store the results in the results_dict\n",
    "    results_dict[domain] = {\n",
    "        'success_count': success_count,\n",
    "        'failure_count': len(failed_links),\n",
    "        'corruption_count': len(corrupted_links),\n",
    "        'failed_links': failed_links,\n",
    "        'corrupted_links': corrupted_links\n",
    "    }\n"
   ]
  },
  {
   "cell_type": "code",
   "execution_count": null,
   "metadata": {},
   "outputs": [
    {
     "name": "stdout",
     "output_type": "stream",
     "text": [
      "Counter()\n"
     ]
    }
   ],
   "source": [
    "print(Counter(urlparse(link).netloc for link in failed_links))"
   ]
  }
 ],
 "metadata": {
  "kernelspec": {
   "display_name": "masters2",
   "language": "python",
   "name": "python3"
  },
  "language_info": {
   "codemirror_mode": {
    "name": "ipython",
    "version": 3
   },
   "file_extension": ".py",
   "mimetype": "text/x-python",
   "name": "python",
   "nbconvert_exporter": "python",
   "pygments_lexer": "ipython3",
   "version": "3.10.13"
  },
  "orig_nbformat": 4
 },
 "nbformat": 4,
 "nbformat_minor": 2
}
