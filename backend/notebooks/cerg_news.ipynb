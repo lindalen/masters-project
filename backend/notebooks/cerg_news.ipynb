{
 "cells": [
  {
   "cell_type": "code",
   "execution_count": 19,
   "metadata": {},
   "outputs": [],
   "source": [
    "import requests\n",
    "import re\n",
    "import os\n",
    "import PyPDF2\n",
    "from io import BytesIO\n",
    "from bs4 import BeautifulSoup\n",
    "from selenium import webdriver\n",
    "from urllib.parse import urlparse\n",
    "from selenium.webdriver.support.ui import WebDriverWait\n",
    "from selenium.webdriver.support import expected_conditions as EC\n",
    "from selenium.webdriver.common.by import By\n",
    "from selenium.webdriver.chrome.options import Options\n",
    "from selenium.webdriver.common.desired_capabilities import DesiredCapabilities\n",
    "from collections import Counter, defaultdict"
   ]
  },
  {
   "cell_type": "code",
   "execution_count": 20,
   "metadata": {},
   "outputs": [],
   "source": [
    "def sanitize_filename(filename):\n",
    "    # List of invalid characters for file names\n",
    "    invalid_chars = ['<', '>', ':', '\"', '/', '\\\\', '|', '?', '*']\n",
    "    for char in invalid_chars:\n",
    "        filename = filename.replace(char, '_')  # Replace invalid characters with underscore\n",
    "    return filename"
   ]
  },
  {
   "cell_type": "code",
   "execution_count": 21,
   "metadata": {},
   "outputs": [],
   "source": [
    "url = \"https://www.ntnu.no/cerg/media\""
   ]
  },
  {
   "cell_type": "code",
   "execution_count": 22,
   "metadata": {},
   "outputs": [
    {
     "data": {
      "text/plain": [
       "186"
      ]
     },
     "execution_count": 22,
     "metadata": {},
     "output_type": "execute_result"
    }
   ],
   "source": [
    "articles = []\n",
    "\n",
    "response = requests.get(url)\n",
    "response.raise_for_status()\n",
    "\n",
    "soup = BeautifulSoup(response.text, 'html.parser')\n",
    "\n",
    "def is_readable_article(tag):\n",
    "    return tag.name == 'a' and tag.get_text(strip=True) == 'Les saken'\n",
    "\n",
    "a_tags = soup.find_all(is_readable_article)\n",
    "\n",
    "for a_tag in a_tags:\n",
    "    link = a_tag['href']\n",
    "    \n",
    "    article = {\n",
    "        'link': link,\n",
    "    }\n",
    "\n",
    "    articles.append(article)\n",
    "len(articles)"
   ]
  },
  {
   "attachments": {},
   "cell_type": "markdown",
   "metadata": {},
   "source": [
    "### Filter out bad domains"
   ]
  },
  {
   "cell_type": "code",
   "execution_count": 23,
   "metadata": {},
   "outputs": [
    {
     "data": {
      "text/plain": [
       "165"
      ]
     },
     "execution_count": 23,
     "metadata": {},
     "output_type": "execute_result"
    }
   ],
   "source": [
    "excluded_domains = [\"dagbladet.no\", \"kk.no\", \"vi.no\", \"fosna-folket.no\", \"https://www.steinkjer-avisa.no/\"] # paywall\n",
    "articles = [article for article in articles if not any(domain in article['link'] for domain in excluded_domains)]\n",
    "len(articles)"
   ]
  },
  {
   "cell_type": "code",
   "execution_count": 24,
   "metadata": {},
   "outputs": [
    {
     "name": "stdout",
     "output_type": "stream",
     "text": [
      "Failed to save https://forskning.no/hjernen-hjerteinfarkt-hjertet/tre-usunne-trekk-gir-mye-hoyere-risiko-for-hjerteinfarkt/2244618 as PDF: Command '['C:/Program Files/wkhtmltopdf/bin/wkhtmltopdf.exe', 'https://forskning.no/hjernen-hjerteinfarkt-hjertet/tre-usunne-trekk-gir-mye-hoyere-risiko-for-hjerteinfarkt/2244618', '../data/articles/2244618.pdf']' returned non-zero exit status 1.\n",
      "Timeout expired for https://www.nrk.no/trondelag/rotter-med-alzheimer-sykdom-fikk-nye-hjerneceller-etter-a-ha-fatt-blod-fra-trente-menn-1.16530238.\n",
      "Timeout expired for https://www.nrk.no/trondelag/johannes-nonas-langhelle-og-ole-petter-hjelle-motte-veggen-_-fysisk-aktivitet-ble-veien-tilbake-1.16501151.\n",
      "Failed to save https://forskning.no/genetikk-trening/sliter-du-med-a-sla-den-personlige-rekorden-genene-har-trolig-noe-av-skylda/2231256 as PDF: Command '['C:/Program Files/wkhtmltopdf/bin/wkhtmltopdf.exe', 'https://forskning.no/genetikk-trening/sliter-du-med-a-sla-den-personlige-rekorden-genene-har-trolig-noe-av-skylda/2231256', '../data/articles/2231256.pdf']' returned non-zero exit status 1.\n",
      "Timeout expired for https://www.express.co.uk/life-style/health/1796339/sleep-problems-exercise-sleep-better-study.\n",
      "Timeout expired for https://www.nrk.no/trondelag/bruker-pulsklokke_-puls-og-pulsvariasjon-hrv-til-a-ta-valg-om-mat_-sovn_-trening-og-alkohol-1.16407575.\n",
      "Timeout expired for https://www.nrk.no/kultur/xl/rockens-snurre-sprett-1.16334075.\n",
      "Timeout expired for https://www.nrk.no/nordland/rad-for-lopere.-trenger-du-karbonsko_-pulsklokke-og-laktatmaler-for-a-bli-god_-1.16372384.\n",
      "Timeout expired for https://www.theepochtimes.com/health/why-your-muscles-deteriorate-with-age_4989904.html?welcomeuser=1.\n",
      "Timeout expired for https://www.nrk.no/nordland/tre-minutter-med-okt-puls-kan-forlenge-livet-og-redusere-risiko-for-kreft-1.16251178.\n",
      "Timeout expired for https://www.washingtonpost.com/wellness/2022/12/09/increase-longevity-vigorous-activity/.\n",
      "Timeout expired for https://www.nrk.no/trondelag/forskere-ved-ntnu-vil-se-om-ungt-blod-kan-hjelpe-mot-alzheimer-1.16093635.\n",
      "Timeout expired for https://www.nrk.no/trondelag/folk-med-god-kondisjon-sover-ofte-bedre_-og-bruker-sjeldnere-legemidler-for-a-falle-i-sovn-1.16151281.\n",
      "Failed to save https://www.nrk.no/norge/tom-rosenvinge-var-blant-de-forste-som-fikk-covid-19.-na-har-han-nesten-samme-kondis-som-for-1.16122885?fbclid=IwAR3QDU0ZKQ8nGmWBWtQF8-SAfR7mPIGrEOE9KP1ryjZULnMvNrXJWYycypo as PDF: Command '['C:/Program Files/wkhtmltopdf/bin/wkhtmltopdf.exe', 'https://www.nrk.no/norge/tom-rosenvinge-var-blant-de-forste-som-fikk-covid-19.-na-har-han-nesten-samme-kondis-som-for-1.16122885?fbclid=IwAR3QDU0ZKQ8nGmWBWtQF8-SAfR7mPIGrEOE9KP1ryjZULnMvNrXJWYycypo', '../data/articles/tom-rosenvinge-var-blant-de-forste-som-fikk-covid-19.-na-har-han-nesten-samme-kondis-som-for-1.16122885?fbclid=IwAR3QDU0ZKQ8nGmWBWtQF8-SAfR7mPIGrEOE9KP1ryjZULnMvNrXJWYycypo.pdf']' returned non-zero exit status 1.\n",
      "Timeout expired for https://www.nrk.no/trondelag/en-time-trening-i-uka-forebygger-demens-og-gir-bedre-hjertehelse-1.16089657.\n",
      "Failed to save https://journals.lww.com/neurotodayonline/Fulltext/2022/02170/A_Molecule_Transfers_Neurologic_Benefits_of.9.aspx as PDF: Command '['C:/Program Files/wkhtmltopdf/bin/wkhtmltopdf.exe', 'https://journals.lww.com/neurotodayonline/Fulltext/2022/02170/A_Molecule_Transfers_Neurologic_Benefits_of.9.aspx', '../data/articles/A_Molecule_Transfers_Neurologic_Benefits_of.9.aspx.pdf']' returned non-zero exit status 1.\n",
      "Timeout expired for https://www.trening.no/folk-og-trening/mest-lest-i-2021/.\n",
      "Failed to save https://www.morningstar.com/news/globe-newswire/8395631/personal-activity-intelligence-pai-monitoring-a-potentially-viable-strategy-for-cardiac-rehabilitation-to-assist-in-the-maintenance-of-physical-activity-adherence as PDF: Command '['C:/Program Files/wkhtmltopdf/bin/wkhtmltopdf.exe', 'https://www.morningstar.com/news/globe-newswire/8395631/personal-activity-intelligence-pai-monitoring-a-potentially-viable-strategy-for-cardiac-rehabilitation-to-assist-in-the-maintenance-of-physical-activity-adherence', '../data/articles/personal-activity-intelligence-pai-monitoring-a-potentially-viable-strategy-for-cardiac-rehabilitation-to-assist-in-the-maintenance-of-physical-activity-adherence.pdf']' returned non-zero exit status 1.\n",
      "Timeout expired for https://www.nrk.no/trondelag/forskning-fra-ntnu_-unik-studie-kan-endre-behandling-av-hjertet-1.15640447.\n",
      "Timeout expired for https://www.nrk.no/sport/noreg-komet-imponerer_-_-ei-gudegave-1.15639143.\n",
      "Failed to save https://forskning.no/hjerteinfarkt-trening/det-er-ikke-for-sent-for-hjertepasienter-a-begynne-med-trening/1901291 as PDF: Command '['C:/Program Files/wkhtmltopdf/bin/wkhtmltopdf.exe', 'https://forskning.no/hjerteinfarkt-trening/det-er-ikke-for-sent-for-hjertepasienter-a-begynne-med-trening/1901291', '../data/articles/1901291.pdf']' returned non-zero exit status 1.\n",
      "Timeout expired for https://www.nrk.no/norge/kan-trene-seg-opp-etter-alvorlig-koronasykdom-1.15566878.\n",
      "Failed to save http://De skal se om mus som er genetisk endret til å mangle PRL-3, tåler anaerob trening dårligere enn mus som har PRL-3-genet i behold. as PDF: Command '['C:/Program Files/wkhtmltopdf/bin/wkhtmltopdf.exe', 'http://De skal se om mus som er genetisk endret til å mangle PRL-3, tåler anaerob trening dårligere enn mus som har PRL-3-genet i behold.', '../data/articles/De skal se om mus som er genetisk endret til å mangle PRL-3, tåler anaerob trening dårligere enn mus som har PRL-3-genet i behold..pdf']' returned non-zero exit status 1.\n",
      "Timeout expired for https://www.nrk.no/viten/elsparkesykkel-gjor-oss-late-og-kan-skape-helseproblemer-pa-sikt-1.15468455.\n",
      "Failed to save https://www.nettavisen.no/sportspill/tipping/ristet-oppgitt-pa-hodet-av-hareides-pafunn-har-aldri-gjort-det-i-min-tid-som-trener/s/12-95-3424121638 as PDF: Command '['C:/Program Files/wkhtmltopdf/bin/wkhtmltopdf.exe', 'https://www.nettavisen.no/sportspill/tipping/ristet-oppgitt-pa-hodet-av-hareides-pafunn-har-aldri-gjort-det-i-min-tid-som-trener/s/12-95-3424121638', '../data/articles/12-95-3424121638.pdf']' returned non-zero exit status 1.\n",
      "Timeout expired for https://www.tek.no/test/i/lE9vV9/amazfit-gts-2-og-gtr-2.\n",
      "Timeout expired for https://www.digi.no/artikler/kommentar-jeg-ble-en-59-ar-gammel-mann-da-ntnu-pai-og-garmin-sluttet-a-snakke-sammen/505959.\n",
      "Timeout expired for https://www.eurosport.no/fotball/rosenborg-med-nytt-grep-en-selvfolge_sto8063765/story.shtml.\n",
      "Failed to save https://www.nito.no/aktuelt/2020/12/ragnhild-rosbjorgen-er-arets-bioingenior-2020/ as PDF: Command '['C:/Program Files/wkhtmltopdf/bin/wkhtmltopdf.exe', 'https://www.nito.no/aktuelt/2020/12/ragnhild-rosbjorgen-er-arets-bioingenior-2020/', '../data/articles/.pdf']' returned non-zero exit status 1.\n",
      "Failed to save https://www.nito.no/aktuelt/2020/12/fra-rutinelab-til-hjerneforskning-pa-rotter-med-alzheimers-ved-cerg/ as PDF: Command '['C:/Program Files/wkhtmltopdf/bin/wkhtmltopdf.exe', 'https://www.nito.no/aktuelt/2020/12/fra-rutinelab-til-hjerneforskning-pa-rotter-med-alzheimers-ved-cerg/', '../data/articles/.pdf']' returned non-zero exit status 1.\n",
      "Timeout expired for https://www.nrk.no/norge/xl/_-det-verste-er-angsten-for-ikke-a-fa-puste-1.15208219.\n",
      "Failed to save https://forskning.no/aldring-om-forskning-trening/overivrige-eldre-i-trondheim-klusset-til-treningsstudie/1769848 as PDF: Command '['C:/Program Files/wkhtmltopdf/bin/wkhtmltopdf.exe', 'https://forskning.no/aldring-om-forskning-trening/overivrige-eldre-i-trondheim-klusset-til-treningsstudie/1769848', '../data/articles/1769848.pdf']' returned non-zero exit status 1.\n",
      "Timeout expired for https://www.nrk.no/nordland/tore-_92_-og-sigmund-_86_-kjorer-zipline-i-mosjoen-1.15233625.\n",
      "Failed to save https://forskning.no/politikk-rus-og-avhengighet/roykere-velger-oftere-snus-med-smak-viser-studie/1759257 as PDF: Command '['C:/Program Files/wkhtmltopdf/bin/wkhtmltopdf.exe', 'https://forskning.no/politikk-rus-og-avhengighet/roykere-velger-oftere-snus-med-smak-viser-studie/1759257', '../data/articles/1759257.pdf']' returned non-zero exit status 1.\n",
      "Failed to save https://www.fastcompany.com/90565175/are-you-too-old-for-high-intensity-exercise-no-says-study-of-1567-active-seniors as PDF: Command '['C:/Program Files/wkhtmltopdf/bin/wkhtmltopdf.exe', 'https://www.fastcompany.com/90565175/are-you-too-old-for-high-intensity-exercise-no-says-study-of-1567-active-seniors', '../data/articles/are-you-too-old-for-high-intensity-exercise-no-says-study-of-1567-active-seniors.pdf']' returned non-zero exit status 1.\n",
      "Failed to save https://www.msn.com/en-us/health/wellness/this-4-4-hiit-structure-for-longevity-provides-short-bursts-of-good-stress/ar-BB1a1ZAd?li=BBnba9O&srcref=rss as PDF: Command '['C:/Program Files/wkhtmltopdf/bin/wkhtmltopdf.exe', 'https://www.msn.com/en-us/health/wellness/this-4-4-hiit-structure-for-longevity-provides-short-bursts-of-good-stress/ar-BB1a1ZAd?li=BBnba9O&srcref=rss', '../data/articles/ar-BB1a1ZAd?li=BBnba9O&srcref=rss.pdf']' returned non-zero exit status 1.\n",
      "Timeout expired for https://www.abc.net.au/news/2020-10-14/exercise-intensity-and-older-people-risk-of-death-hiit/12758978.\n",
      "Timeout expired for https://www.nrk.no/viten/hardtrening-kan-forlenge-livet_-viser-ny-studie-1.15187181.\n",
      "Failed to save https://www.universitetsavisa.no/forskning/2020/09/16/Disse-NTNU-erne-skal-i-ilden-22663882.ece as PDF: Command '['C:/Program Files/wkhtmltopdf/bin/wkhtmltopdf.exe', 'https://www.universitetsavisa.no/forskning/2020/09/16/Disse-NTNU-erne-skal-i-ilden-22663882.ece', '../data/articles/Disse-NTNU-erne-skal-i-ilden-22663882.ece.pdf']' returned non-zero exit status 1.\n",
      "Failed to save https://forskning.no/trening/stemmer-det-egentlig-at-du-er-godt-trent-hvis-du-har-lav-hvilepuls/1731701 as PDF: Command '['C:/Program Files/wkhtmltopdf/bin/wkhtmltopdf.exe', 'https://forskning.no/trening/stemmer-det-egentlig-at-du-er-godt-trent-hvis-du-har-lav-hvilepuls/1731701', '../data/articles/1731701.pdf']' returned non-zero exit status 1.\n",
      "Failed to save https://forskning.no/hjertet-nasjonalforeningen-for-folkehelsen-partner/hva-skjer-med-kroppen-etter-covid-19/1689216 as PDF: Command '['C:/Program Files/wkhtmltopdf/bin/wkhtmltopdf.exe', 'https://forskning.no/hjertet-nasjonalforeningen-for-folkehelsen-partner/hva-skjer-med-kroppen-etter-covid-19/1689216', '../data/articles/1689216.pdf']' returned non-zero exit status 1.\n",
      "Failed to save https://www.nettavisen.no/livsstil/alzheimer-er-den-sykdommen-nordmenn-frykter-mest-slik-halverer-du-risikoen-for-a-bli-rammet/3423973003.html as PDF: Command '['C:/Program Files/wkhtmltopdf/bin/wkhtmltopdf.exe', 'https://www.nettavisen.no/livsstil/alzheimer-er-den-sykdommen-nordmenn-frykter-mest-slik-halverer-du-risikoen-for-a-bli-rammet/3423973003.html', '../data/articles/3423973003.html.pdf']' returned non-zero exit status 1.\n",
      "Failed to save https://www.nettavisen.no/livsstil/-det-er-ikke-helg-hver-dag-selv-om-du-jobber-hjemmefra/3423953149.html as PDF: Command '['C:/Program Files/wkhtmltopdf/bin/wkhtmltopdf.exe', 'https://www.nettavisen.no/livsstil/-det-er-ikke-helg-hver-dag-selv-om-du-jobber-hjemmefra/3423953149.html', '../data/articles/3423953149.html.pdf']' returned non-zero exit status 1.\n",
      "Failed to save https://in.reuters.com/article/us-health-afib-fitness/even-with-atrial-fibrillation-exercise-linked-to-longer-life-idINKBN20S2A6 as PDF: Command '['C:/Program Files/wkhtmltopdf/bin/wkhtmltopdf.exe', 'https://in.reuters.com/article/us-health-afib-fitness/even-with-atrial-fibrillation-exercise-linked-to-longer-life-idINKBN20S2A6', '../data/articles/even-with-atrial-fibrillation-exercise-linked-to-longer-life-idINKBN20S2A6.pdf']' returned non-zero exit status 1.\n",
      "Timeout expired for https://www.nrk.no/viten/forskere-i-trondheim-har-funnet-seks-nye-kondisjonsgener-1.14917329.\n",
      "Failed to save https://www.kongehuset.no/nyhet.html?tid=177869&sek=26939 as PDF: Command '['C:/Program Files/wkhtmltopdf/bin/wkhtmltopdf.exe', 'https://www.kongehuset.no/nyhet.html?tid=177869&sek=26939', '../data/articles/nyhet.html?tid=177869&sek=26939.pdf']' returned non-zero exit status 1.\n",
      "Failed to save https://nasjonalforeningen.no/forskning/ulrik-wisloff-hjerteforskningsprisen-2020/ as PDF: Command '['C:/Program Files/wkhtmltopdf/bin/wkhtmltopdf.exe', 'https://nasjonalforeningen.no/forskning/ulrik-wisloff-hjerteforskningsprisen-2020/', '../data/articles/.pdf']' returned non-zero exit status 1.\n",
      "Failed to save https://www.nettavisen.no/livsstil/ntnu-studie-konkluderer-hvis-du-forbedrer-kondisjonen-din-kan-du-halvere-risikoen-for-demens/3423873225.html as PDF: Command '['C:/Program Files/wkhtmltopdf/bin/wkhtmltopdf.exe', 'https://www.nettavisen.no/livsstil/ntnu-studie-konkluderer-hvis-du-forbedrer-kondisjonen-din-kan-du-halvere-risikoen-for-demens/3423873225.html', '../data/articles/3423873225.html.pdf']' returned non-zero exit status 1.\n",
      "Timeout expired for https://www.nrk.no/viten/forbedret-kondisjon-midt-i-livet-reduserer-risiko-for-demens-1.14676310.\n",
      "Failed to save https://thelobbystockholm.se/2019/09/05/lat-fyra-norska-minuter-maxa-din-halsa/ as PDF: Command '['C:/Program Files/wkhtmltopdf/bin/wkhtmltopdf.exe', 'https://thelobbystockholm.se/2019/09/05/lat-fyra-norska-minuter-maxa-din-halsa/', '../data/articles/.pdf']' returned non-zero exit status 1.\n",
      "Timeout expired for https://www.trening.no/utholdenhet/fa-superkondis-med-4x4/.\n",
      "Failed to save https://www.diabetesqld.org.au/media-centre/2019/july/uq-study-diabetes-smartphone-app.aspx as PDF: Command '['C:/Program Files/wkhtmltopdf/bin/wkhtmltopdf.exe', 'https://www.diabetesqld.org.au/media-centre/2019/july/uq-study-diabetes-smartphone-app.aspx', '../data/articles/uq-study-diabetes-smartphone-app.aspx.pdf']' returned non-zero exit status 1.\n",
      "Failed to save https://www.lommelegen.no/hjerte-og-kar/puls/artikkel/hva-er-normal-puls/68995401 as PDF: Command '['C:/Program Files/wkhtmltopdf/bin/wkhtmltopdf.exe', 'https://www.lommelegen.no/hjerte-og-kar/puls/artikkel/hva-er-normal-puls/68995401', '../data/articles/68995401.pdf']' returned non-zero exit status 1.\n",
      "Failed to save https://www.nettavisen.no/livsstil/ny-ntnu-studie-konkluderer-hvis-du-vil-forebygge-hjerteinfarkt-sa-holder-det-ikke-med-en-rolig-sondagstur/3423691980.html as PDF: Command '['C:/Program Files/wkhtmltopdf/bin/wkhtmltopdf.exe', 'https://www.nettavisen.no/livsstil/ny-ntnu-studie-konkluderer-hvis-du-vil-forebygge-hjerteinfarkt-sa-holder-det-ikke-med-en-rolig-sondagstur/3423691980.html', '../data/articles/3423691980.html.pdf']' returned non-zero exit status 1.\n",
      "Timeout expired for https://www.nrk.no/livsstil/effektiv-trening-i-naturen-1.14539962.\n",
      "Failed to save https://nhi.no/trening/aktivitet-og-helse/treningsrad-ved-ulike-sykdommer/intervalltrening-og-styrketrening-hos-personer-med-kronisk-hjertesvikt/ as PDF: Command '['C:/Program Files/wkhtmltopdf/bin/wkhtmltopdf.exe', 'https://nhi.no/trening/aktivitet-og-helse/treningsrad-ved-ulike-sykdommer/intervalltrening-og-styrketrening-hos-personer-med-kronisk-hjertesvikt/', '../data/articles/.pdf']' returned non-zero exit status 1.\n",
      "Timeout expired for https://www.dagogtid.no/samfunn/dei-unge-veiknar-6.23.10939.081d79a082.\n",
      "Timeout expired for https://www.health.news/2019-04-14-regular-exercise-can-reduce-your-risk-of-heart-attacks-by-half.html.\n",
      "Failed to save https://www.lommelegen.no/overvekt/artikkel/trening-ved-overvekt-slik-unngar-du-skader/70730945 as PDF: Command '['C:/Program Files/wkhtmltopdf/bin/wkhtmltopdf.exe', 'https://www.lommelegen.no/overvekt/artikkel/trening-ved-overvekt-slik-unngar-du-skader/70730945', '../data/articles/70730945.pdf']' returned non-zero exit status 1.\n",
      "Failed to save https://www.lommelegen.no/muskel-ledd-og-skjelett/trening/artikkel/30-minutters-gange-hver-dag-kan-vaere-nok/70712519 as PDF: Command '['C:/Program Files/wkhtmltopdf/bin/wkhtmltopdf.exe', 'https://www.lommelegen.no/muskel-ledd-og-skjelett/trening/artikkel/30-minutters-gange-hver-dag-kan-vaere-nok/70712519', '../data/articles/70712519.pdf']' returned non-zero exit status 1.\n",
      "Failed to save https://www.universitetsavisa.no/forskning/2019/02/04/Forskning-fra-NTNU-omtalt-i-BBC-og-Fox-News-77159.ece as PDF: Command '['C:/Program Files/wkhtmltopdf/bin/wkhtmltopdf.exe', 'https://www.universitetsavisa.no/forskning/2019/02/04/Forskning-fra-NTNU-omtalt-i-BBC-og-Fox-News-77159.ece', '../data/articles/Forskning-fra-NTNU-omtalt-i-BBC-og-Fox-News-77159.ece.pdf']' returned non-zero exit status 1.\n",
      "Timeout expired for https://www.nrk.no/viten/studie_-vekt-og-trening-hadde-ulik-effekt-hos-kvinner-og-menn-1.14392809.\n",
      "Failed to save https://www.universitetsavisa.no/forskning/2018/12/06/16-NTNU-prosjekter-f%C3%A5r-Fripro-millioner-76219.ece as PDF: Command '['C:/Program Files/wkhtmltopdf/bin/wkhtmltopdf.exe', 'https://www.universitetsavisa.no/forskning/2018/12/06/16-NTNU-prosjekter-f%C3%A5r-Fripro-millioner-76219.ece', '../data/articles/16-NTNU-prosjekter-f%C3%A5r-Fripro-millioner-76219.ece.pdf']' returned non-zero exit status 1.\n",
      "Failed to save https://s-n.no/180-med-i-forskningsprosjekt/ as PDF: Command '['C:/Program Files/wkhtmltopdf/bin/wkhtmltopdf.exe', 'https://s-n.no/180-med-i-forskningsprosjekt/', '../data/articles/.pdf']' returned non-zero exit status 1.\n",
      "Failed to save https://xstra.no/kort-trening-kan-gi-stor-helsegevinst/ as PDF: Command '['C:/Program Files/wkhtmltopdf/bin/wkhtmltopdf.exe', 'https://xstra.no/kort-trening-kan-gi-stor-helsegevinst/', '../data/articles/.pdf']' returned non-zero exit status 1.\n",
      "Failed to save http://unikard.org/bor-trene-atrieflimmer/ as PDF: Command '['C:/Program Files/wkhtmltopdf/bin/wkhtmltopdf.exe', 'http://unikard.org/bor-trene-atrieflimmer/', '../data/articles/.pdf']' returned non-zero exit status 1.\n",
      "Failed to save https://www.coachmag.co.uk/fitness/7667/how-to-live-longer-focus-on-your-fitness-age as PDF: Command '['C:/Program Files/wkhtmltopdf/bin/wkhtmltopdf.exe', 'https://www.coachmag.co.uk/fitness/7667/how-to-live-longer-focus-on-your-fitness-age', '../data/articles/how-to-live-longer-focus-on-your-fitness-age.pdf']' returned non-zero exit status 1.\n",
      "Timeout expired for http://www.trening.no/treningstips/fire-lopeokter-til-ferien/.\n",
      "Timeout expired for https://www.wsj.com/articles/a-good-heart-rate-formula-is-hard-to-beat-1521810000.\n"
     ]
    }
   ],
   "source": [
    "import os\n",
    "import subprocess\n",
    "\n",
    "failed_links = []\n",
    "timeout_links = []\n",
    "\n",
    "# Create directory for storing PDFs if it doesn't exist\n",
    "os.makedirs('../data/articles', exist_ok=True)\n",
    "\n",
    "def save_article_as_pdf(link, filename):\n",
    "    command = [\n",
    "        'C:/Program Files/wkhtmltopdf/bin/wkhtmltopdf.exe',\n",
    "        link,\n",
    "        filename\n",
    "    ]\n",
    "    try:\n",
    "        subprocess.run(command, timeout=10, check=True)\n",
    "    except subprocess.TimeoutExpired:\n",
    "        timeout_links.append(link)\n",
    "        print(f'Timeout expired for {link}.')\n",
    "    except subprocess.CalledProcessError as e:\n",
    "        failed_links.append(link)\n",
    "        print(f'Failed to save {link} as PDF: {e}')\n",
    "\n",
    "for article in articles:\n",
    "    # Construct a filename based on the article link\n",
    "    filename = '../data/articles/' + article['link'].split('/')[-1] + '.pdf'\n",
    "    save_article_as_pdf(article['link'], filename)\n",
    "\n"
   ]
  },
  {
   "cell_type": "code",
   "execution_count": 25,
   "metadata": {},
   "outputs": [
    {
     "name": "stdout",
     "output_type": "stream",
     "text": [
      "165 successes. 36 failures. 33 timeouts.\n"
     ]
    }
   ],
   "source": [
    "print(len(articles), \"successes.\", len(failed_links), \"failures.\", len(timeout_links), \"timeouts.\")"
   ]
  },
  {
   "cell_type": "code",
   "execution_count": 26,
   "metadata": {},
   "outputs": [
    {
     "data": {
      "text/plain": [
       "['https://forskning.no/hjernen-hjerteinfarkt-hjertet/tre-usunne-trekk-gir-mye-hoyere-risiko-for-hjerteinfarkt/2244618',\n",
       " 'https://forskning.no/genetikk-trening/sliter-du-med-a-sla-den-personlige-rekorden-genene-har-trolig-noe-av-skylda/2231256',\n",
       " 'https://www.nrk.no/norge/tom-rosenvinge-var-blant-de-forste-som-fikk-covid-19.-na-har-han-nesten-samme-kondis-som-for-1.16122885?fbclid=IwAR3QDU0ZKQ8nGmWBWtQF8-SAfR7mPIGrEOE9KP1ryjZULnMvNrXJWYycypo',\n",
       " 'https://journals.lww.com/neurotodayonline/Fulltext/2022/02170/A_Molecule_Transfers_Neurologic_Benefits_of.9.aspx',\n",
       " 'https://www.morningstar.com/news/globe-newswire/8395631/personal-activity-intelligence-pai-monitoring-a-potentially-viable-strategy-for-cardiac-rehabilitation-to-assist-in-the-maintenance-of-physical-activity-adherence',\n",
       " 'https://forskning.no/hjerteinfarkt-trening/det-er-ikke-for-sent-for-hjertepasienter-a-begynne-med-trening/1901291',\n",
       " 'http://De skal se om mus som er genetisk endret til å mangle PRL-3, tåler anaerob trening dårligere enn mus som har PRL-3-genet i behold.',\n",
       " 'https://www.nettavisen.no/sportspill/tipping/ristet-oppgitt-pa-hodet-av-hareides-pafunn-har-aldri-gjort-det-i-min-tid-som-trener/s/12-95-3424121638',\n",
       " 'https://www.nito.no/aktuelt/2020/12/ragnhild-rosbjorgen-er-arets-bioingenior-2020/',\n",
       " 'https://www.nito.no/aktuelt/2020/12/fra-rutinelab-til-hjerneforskning-pa-rotter-med-alzheimers-ved-cerg/',\n",
       " 'https://forskning.no/aldring-om-forskning-trening/overivrige-eldre-i-trondheim-klusset-til-treningsstudie/1769848',\n",
       " 'https://forskning.no/politikk-rus-og-avhengighet/roykere-velger-oftere-snus-med-smak-viser-studie/1759257',\n",
       " 'https://www.fastcompany.com/90565175/are-you-too-old-for-high-intensity-exercise-no-says-study-of-1567-active-seniors',\n",
       " 'https://www.msn.com/en-us/health/wellness/this-4-4-hiit-structure-for-longevity-provides-short-bursts-of-good-stress/ar-BB1a1ZAd?li=BBnba9O&srcref=rss',\n",
       " 'https://www.universitetsavisa.no/forskning/2020/09/16/Disse-NTNU-erne-skal-i-ilden-22663882.ece',\n",
       " 'https://forskning.no/trening/stemmer-det-egentlig-at-du-er-godt-trent-hvis-du-har-lav-hvilepuls/1731701',\n",
       " 'https://forskning.no/hjertet-nasjonalforeningen-for-folkehelsen-partner/hva-skjer-med-kroppen-etter-covid-19/1689216',\n",
       " 'https://www.nettavisen.no/livsstil/alzheimer-er-den-sykdommen-nordmenn-frykter-mest-slik-halverer-du-risikoen-for-a-bli-rammet/3423973003.html',\n",
       " 'https://www.nettavisen.no/livsstil/-det-er-ikke-helg-hver-dag-selv-om-du-jobber-hjemmefra/3423953149.html',\n",
       " 'https://in.reuters.com/article/us-health-afib-fitness/even-with-atrial-fibrillation-exercise-linked-to-longer-life-idINKBN20S2A6',\n",
       " 'https://www.kongehuset.no/nyhet.html?tid=177869&sek=26939',\n",
       " 'https://nasjonalforeningen.no/forskning/ulrik-wisloff-hjerteforskningsprisen-2020/',\n",
       " 'https://www.nettavisen.no/livsstil/ntnu-studie-konkluderer-hvis-du-forbedrer-kondisjonen-din-kan-du-halvere-risikoen-for-demens/3423873225.html',\n",
       " 'https://thelobbystockholm.se/2019/09/05/lat-fyra-norska-minuter-maxa-din-halsa/',\n",
       " 'https://www.diabetesqld.org.au/media-centre/2019/july/uq-study-diabetes-smartphone-app.aspx',\n",
       " 'https://www.lommelegen.no/hjerte-og-kar/puls/artikkel/hva-er-normal-puls/68995401',\n",
       " 'https://www.nettavisen.no/livsstil/ny-ntnu-studie-konkluderer-hvis-du-vil-forebygge-hjerteinfarkt-sa-holder-det-ikke-med-en-rolig-sondagstur/3423691980.html',\n",
       " 'https://nhi.no/trening/aktivitet-og-helse/treningsrad-ved-ulike-sykdommer/intervalltrening-og-styrketrening-hos-personer-med-kronisk-hjertesvikt/',\n",
       " 'https://www.lommelegen.no/overvekt/artikkel/trening-ved-overvekt-slik-unngar-du-skader/70730945',\n",
       " 'https://www.lommelegen.no/muskel-ledd-og-skjelett/trening/artikkel/30-minutters-gange-hver-dag-kan-vaere-nok/70712519',\n",
       " 'https://www.universitetsavisa.no/forskning/2019/02/04/Forskning-fra-NTNU-omtalt-i-BBC-og-Fox-News-77159.ece',\n",
       " 'https://www.universitetsavisa.no/forskning/2018/12/06/16-NTNU-prosjekter-f%C3%A5r-Fripro-millioner-76219.ece',\n",
       " 'https://s-n.no/180-med-i-forskningsprosjekt/',\n",
       " 'https://xstra.no/kort-trening-kan-gi-stor-helsegevinst/',\n",
       " 'http://unikard.org/bor-trene-atrieflimmer/',\n",
       " 'https://www.coachmag.co.uk/fitness/7667/how-to-live-longer-focus-on-your-fitness-age']"
      ]
     },
     "execution_count": 26,
     "metadata": {},
     "output_type": "execute_result"
    }
   ],
   "source": [
    "failed_links"
   ]
  }
 ],
 "metadata": {
  "kernelspec": {
   "display_name": "masters2",
   "language": "python",
   "name": "python3"
  },
  "language_info": {
   "codemirror_mode": {
    "name": "ipython",
    "version": 3
   },
   "file_extension": ".py",
   "mimetype": "text/x-python",
   "name": "python",
   "nbconvert_exporter": "python",
   "pygments_lexer": "ipython3",
   "version": "3.10.13"
  },
  "orig_nbformat": 4
 },
 "nbformat": 4,
 "nbformat_minor": 2
}
