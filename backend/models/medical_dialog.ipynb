{
 "cells": [
  {
   "cell_type": "code",
   "execution_count": 1,
   "metadata": {},
   "outputs": [
    {
     "name": "stderr",
     "output_type": "stream",
     "text": [
      "c:\\Users\\dlind\\anaconda3\\envs\\masters\\lib\\site-packages\\tqdm\\auto.py:21: TqdmWarning: IProgress not found. Please update jupyter and ipywidgets. See https://ipywidgets.readthedocs.io/en/stable/user_install.html\n",
      "  from .autonotebook import tqdm as notebook_tqdm\n"
     ]
    }
   ],
   "source": [
    "from datasets import load_dataset\n",
    "from transformers import GPT2LMHeadModel, GPT2Tokenizer, TextDataset, DataCollatorForLanguageModeling, Trainer, TrainingArguments\n",
    "import torch\n"
   ]
  },
  {
   "cell_type": "code",
   "execution_count": 2,
   "metadata": {},
   "outputs": [],
   "source": [
    "# Load the dataset\n",
    "dataset = load_dataset('medical_dialog', 'processed.en')\n",
    "\n",
    "tokenizer = GPT2Tokenizer.from_pretrained(\"gpt2\")\n",
    "model = GPT2LMHeadModel.from_pretrained(\"gpt2\")"
   ]
  },
  {
   "cell_type": "code",
   "execution_count": 3,
   "metadata": {},
   "outputs": [],
   "source": [
    "with open(\"train.txt\", \"w\") as f:\n",
    "    for entry in dataset[\"train\"]:\n",
    "        f.write(entry['utterances'][0] + \" <|endoftext|> \" + entry['utterances'][1] + \"\\n\")\n",
    "\n",
    "with open(\"val.txt\", \"w\") as f:\n",
    "    for entry in dataset[\"validation\"]:\n",
    "        f.write(entry['utterances'][0] + \" <|endoftext|> \" + entry['utterances'][1] + \"\\n\")\n",
    "\n",
    "with open(\"test.txt\", \"w\") as f:\n",
    "    for entry in dataset[\"test\"]:\n",
    "        f.write(entry['utterances'][0] + \" <|endoftext|> \" + entry['utterances'][1] + \"\\n\")"
   ]
  },
  {
   "cell_type": "code",
   "execution_count": 4,
   "metadata": {},
   "outputs": [
    {
     "name": "stderr",
     "output_type": "stream",
     "text": [
      "c:\\Users\\dlind\\anaconda3\\envs\\masters\\lib\\site-packages\\transformers\\data\\datasets\\language_modeling.py:53: FutureWarning: This dataset will be removed from the library soon, preprocessing should be handled with the 🤗 Datasets library. You can have a look at this example script for pointers: https://github.com/huggingface/transformers/blob/main/examples/pytorch/language-modeling/run_mlm.py\n",
      "  warnings.warn(\n"
     ]
    }
   ],
   "source": [
    "train_dataset = TextDataset(\n",
    "    tokenizer=tokenizer,\n",
    "    file_path=\"train.txt\",\n",
    "    block_size=256\n",
    ")\n",
    "\n",
    "val_dataset = TextDataset(\n",
    "    tokenizer=tokenizer,\n",
    "    file_path=\"val.txt\",\n",
    "    block_size=256\n",
    ")\n",
    "\n",
    "test_dataset = TextDataset(\n",
    "    tokenizer=tokenizer,\n",
    "    file_path=\"test.txt\",\n",
    "    block_size=256\n",
    ")"
   ]
  },
  {
   "cell_type": "code",
   "execution_count": 48,
   "metadata": {},
   "outputs": [],
   "source": [
    "data_collator = DataCollatorForLanguageModeling(\n",
    "    tokenizer=tokenizer,\n",
    "    mlm=False\n",
    ")"
   ]
  },
  {
   "cell_type": "code",
   "execution_count": 49,
   "metadata": {},
   "outputs": [],
   "source": [
    "training_args = TrainingArguments(\n",
    "    output_dir=\"./output\",\n",
    "    overwrite_output_dir=True,\n",
    "    num_train_epochs=1,\n",
    "    per_device_train_batch_size=32,\n",
    "    save_steps=10_000,\n",
    "    save_total_limit=2,\n",
    ")"
   ]
  },
  {
   "cell_type": "code",
   "execution_count": 50,
   "metadata": {},
   "outputs": [],
   "source": [
    "trainer = Trainer(\n",
    "    model=model,\n",
    "    args=training_args,\n",
    "    data_collator=data_collator,\n",
    "    train_dataset=train_dataset,\n",
    "    eval_dataset=val_dataset,\n",
    ")"
   ]
  },
  {
   "cell_type": "code",
   "execution_count": 51,
   "metadata": {},
   "outputs": [
    {
     "name": "stderr",
     "output_type": "stream",
     "text": [
      "100%|██████████| 9/9 [01:59<00:00, 13.26s/it]"
     ]
    },
    {
     "name": "stdout",
     "output_type": "stream",
     "text": [
      "{'train_runtime': 119.2985, 'train_samples_per_second': 2.179, 'train_steps_per_second': 0.075, 'train_loss': 4.29523425632053, 'epoch': 1.0}\n"
     ]
    },
    {
     "name": "stderr",
     "output_type": "stream",
     "text": [
      "\n"
     ]
    },
    {
     "data": {
      "text/plain": [
       "TrainOutput(global_step=9, training_loss=4.29523425632053, metrics={'train_runtime': 119.2985, 'train_samples_per_second': 2.179, 'train_steps_per_second': 0.075, 'train_loss': 4.29523425632053, 'epoch': 1.0})"
      ]
     },
     "execution_count": 51,
     "metadata": {},
     "output_type": "execute_result"
    }
   ],
   "source": [
    "trainer.train()\n"
   ]
  },
  {
   "cell_type": "code",
   "execution_count": 52,
   "metadata": {},
   "outputs": [
    {
     "data": {
      "text/plain": [
       "('./model\\\\tokenizer_config.json',\n",
       " './model\\\\special_tokens_map.json',\n",
       " './model\\\\vocab.json',\n",
       " './model\\\\merges.txt',\n",
       " './model\\\\added_tokens.json')"
      ]
     },
     "execution_count": 52,
     "metadata": {},
     "output_type": "execute_result"
    }
   ],
   "source": [
    "# Save the model\n",
    "model.save_pretrained(\"./model\")\n",
    "\n",
    "# Save the tokenizer\n",
    "tokenizer.save_pretrained(\"./model\")"
   ]
  },
  {
   "cell_type": "code",
   "execution_count": 8,
   "metadata": {},
   "outputs": [
    {
     "name": "stderr",
     "output_type": "stream",
     "text": [
      "Setting `pad_token_id` to `eos_token_id`:50256 for open-end generation.\n",
      "A decoder-only architecture is being used, but right-padding was detected! For correct generation results, please set `padding_side='left'` when initializing the tokenizer.\n",
      "Setting `pad_token_id` to `eos_token_id`:50256 for open-end generation.\n",
      "A decoder-only architecture is being used, but right-padding was detected! For correct generation results, please set `padding_side='left'` when initializing the tokenizer.\n"
     ]
    },
    {
     "name": "stdout",
     "output_type": "stream",
     "text": [
      "Fine-tuned Model Query: patient: Can headaches be caused by stress? <|endoftext|>\n",
      "Fine-tuned Model Response: patient: Can headaches be caused by stress? The following is a list of the most common symptoms of migraine.\n",
      "\n",
      "Symptoms of migraines:\n",
      "...\n",
      ". are usually mild, but can be severe. \n",
      "The most commonly reported symptom is headache. The most frequently reported symptoms are\n",
      "Base Model Query: patient: Can headaches be caused by stress? <|endoftext|>\n",
      "Base Model Response: patient: Can headaches be caused by stress? The first time I saw the new \"The Walking Dead\" trailer, I was so excited. I had never seen a zombie movie before, and I knew that I wanted to see a new one.\n",
      "\n",
      "I was excited to get my hands on the first trailer\n"
     ]
    }
   ],
   "source": [
    "from transformers import AutoModelForCausalLM, AutoTokenizer\n",
    "\n",
    "# Load trained model and tokenizer\n",
    "model = AutoModelForCausalLM.from_pretrained(\"./model\")\n",
    "tokenizer = AutoTokenizer.from_pretrained(\"./model\", padding_side='left')\n",
    "\n",
    "# Load base GPT-2 model and tokenizer\n",
    "base_model = AutoModelForCausalLM.from_pretrained(\"gpt2\")\n",
    "base_tokenizer = AutoTokenizer.from_pretrained(\"gpt2\", padding_side='left')\n",
    "\n",
    "# Prepare a test query\n",
    "test_query = f\"patient: Can headaches be caused by stress? {tokenizer.eos_token}\"\n",
    "\n",
    "# Fine-tuned model\n",
    "input_ids = tokenizer.encode(test_query, return_tensors='pt')\n",
    "attention_mask = torch.ones(input_ids.shape)  # Create attention mask\n",
    "\n",
    "output_ids = model.generate(\n",
    "    input_ids=input_ids, \n",
    "    attention_mask=attention_mask,\n",
    "    no_repeat_ngram_size=2,\n",
    "    max_length=64\n",
    ")\n",
    "response = tokenizer.decode(output_ids[0], skip_special_tokens=True)\n",
    "print(f\"Fine-tuned Model Query: {test_query}\")\n",
    "print(f\"Fine-tuned Model Response: {response}\")\n",
    "\n",
    "# Base GPT-2 model\n",
    "input_ids_base = base_tokenizer.encode(test_query, return_tensors='pt')\n",
    "attention_mask_base = torch.ones(input_ids_base.shape)  # Create attention mask\n",
    "\n",
    "output_ids_base = base_model.generate(\n",
    "    input_ids=input_ids_base, \n",
    "    attention_mask=attention_mask_base,\n",
    "    max_length=64,\n",
    "    no_repeat_ngram_size=2,\n",
    ")\n",
    "response_base = base_tokenizer.decode(output_ids_base[0], skip_special_tokens=True)\n",
    "print(f\"Base Model Query: {test_query}\")\n",
    "print(f\"Base Model Response: {response_base}\")\n"
   ]
  }
 ],
 "metadata": {
  "kernelspec": {
   "display_name": "masters",
   "language": "python",
   "name": "python3"
  },
  "language_info": {
   "codemirror_mode": {
    "name": "ipython",
    "version": 3
   },
   "file_extension": ".py",
   "mimetype": "text/x-python",
   "name": "python",
   "nbconvert_exporter": "python",
   "pygments_lexer": "ipython3",
   "version": "3.10.12"
  },
  "orig_nbformat": 4
 },
 "nbformat": 4,
 "nbformat_minor": 2
}
